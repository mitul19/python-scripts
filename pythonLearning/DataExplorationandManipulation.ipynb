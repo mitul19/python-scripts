{
 "cells": [
  {
   "cell_type": "markdown",
   "metadata": {},
   "source": [
    "# Data Exploration and Manipulation Demo"
   ]
  },
  {
   "cell_type": "markdown",
   "metadata": {},
   "source": [
    "## Parsing and Exploring Data"
   ]
  },
  {
   "cell_type": "markdown",
   "metadata": {},
   "source": [
    "### Loading Json and basic ops"
   ]
  },
  {
   "cell_type": "code",
   "execution_count": 2,
   "metadata": {},
   "outputs": [],
   "source": [
    "# Introspect the data to make some determinations\n",
    "# Import libs\n",
    "\n",
    "import json\n",
    "import pprint"
   ]
  },
  {
   "cell_type": "code",
   "execution_count": 3,
   "metadata": {},
   "outputs": [],
   "source": [
    "# open the sample weather data file and use the json module to load and parse it\n",
    "with open(\"testdata/sample-weather-history.json\", \"r\") as weatherfile:\n",
    "    weatherdata = json.load(weatherfile)"
   ]
  },
  {
   "cell_type": "code",
   "execution_count": 4,
   "metadata": {},
   "outputs": [
    {
     "name": "stdout",
     "output_type": "stream",
     "text": [
      "The warmest day was 2017-07-23 at 102 degrees\n",
      "The coldest day was 2018-01-07 at 4 degrees\n",
      "Snow fell on 15 days\n",
      "{'date': '2018-01-17',\n",
      " 'tmin': 23,\n",
      " 'tmax': 38,\n",
      " 'prcp': 0.49,\n",
      " 'snow': 5.9,\n",
      " 'snwd': 0.0,\n",
      " 'awnd': 5.82}\n"
     ]
    }
   ],
   "source": [
    "# What was the warmest day in the data set?\n",
    "warmday = max(weatherdata, key=lambda x: x['tmax'])\n",
    "print(f\"The warmest day was {warmday['date']} at {warmday['tmax']} degrees\")\n",
    "\n",
    "# What was the coldest day in the data set?\n",
    "coldday = min(weatherdata, key=lambda x: x['tmin'])\n",
    "print(f\"The coldest day was {coldday['date']} at {coldday['tmin']} degrees\")\n",
    "\n",
    "# How many days had snowfall?\n",
    "snowdays = [day for day in weatherdata if day['snow'] > 0]\n",
    "print(f\"Snow fell on {len(snowdays)} days\")\n",
    "pprint.pp(snowdays[0])"
   ]
  },
  {
   "cell_type": "markdown",
   "metadata": {},
   "source": [
    "### Filter() work"
   ]
  },
  {
   "cell_type": "code",
   "execution_count": 8,
   "metadata": {},
   "outputs": [
    {
     "name": "stdout",
     "output_type": "stream",
     "text": [
      "1977\n",
      "15\n",
      "[{'date': '2018-01-17',\n",
      "  'tmin': 23,\n",
      "  'tmax': 38,\n",
      "  'prcp': 0.49,\n",
      "  'snow': 5.9,\n",
      "  'snwd': 0.0,\n",
      "  'awnd': 5.82}]\n",
      "15\n",
      "[{'date': '2017-08-08',\n",
      "  'tmin': 68,\n",
      "  'tmax': 78,\n",
      "  'prcp': 1.5,\n",
      "  'snow': 0.0,\n",
      "  'snwd': 0.0,\n",
      "  'awnd': 5.82}]\n"
     ]
    }
   ],
   "source": [
    "# * Filter values out of a data set based on some criteria \n",
    "# * the filter() function gives us a way to remove unwanted data points\n",
    "# * filter can also be used on non-numerical data, like strings\n",
    "\n",
    "snowdays = list(filter(lambda d: d['snow'] > 0.0, weatherdata))\n",
    "print(len(weatherdata))\n",
    "print(len(snowdays))\n",
    "pprint.pp(snowdays[0:1])\n",
    "\n",
    "def is_summer_rain_day(d):\n",
    "    summer_months = [\"-07-\", \"-08-\"]\n",
    "    if any([m in d['date'] for m in summer_months]) and (d['prcp'] >= 1.0):\n",
    "        return True\n",
    "    return False\n",
    "\n",
    "\n",
    "summerraindays = list(filter(is_summer_rain_day, weatherdata))\n",
    "print(len(summerraindays))\n",
    "pprint.pp(summerraindays[0:1])"
   ]
  },
  {
   "cell_type": "markdown",
   "metadata": {},
   "source": [
    "Challenge: using the weather data set, write code to use the filter() function to create a list of all the \"cold, rainy, windy\" days as define by precipitation (either rain or snow) > 0.7in, the average temp for the day being below 45deg F, and average wind > 10.0 mph"
   ]
  },
  {
   "cell_type": "code",
   "execution_count": 6,
   "metadata": {},
   "outputs": [
    {
     "name": "stdout",
     "output_type": "stream",
     "text": [
      "5 cold, windy, rainy days\n",
      "[{'date': '2018-12-09', 'tmin': 30, 'tmax': 38, 'prcp': 1.75, 'snow': 7.0, 'snwd': 3.1, 'awnd': 15.21}, {'date': '2018-11-15', 'tmin': 36, 'tmax': 43, 'prcp': 0.88, 'snow': 0.0, 'snwd': 0.0, 'awnd': 10.29}, {'date': '2022-03-12', 'tmin': 28, 'tmax': 60, 'prcp': 1.01, 'snow': 0.0, 'snwd': 0.0, 'awnd': 10.3}, {'date': '2022-01-21', 'tmin': 22, 'tmax': 30, 'prcp': 0.15, 'snow': 1.5, 'snwd': 2.0, 'awnd': 10.7}, {'date': '2022-01-16', 'tmin': 25, 'tmax': 38, 'prcp': 1.22, 'snow': 0.0, 'snwd': 0.0, 'awnd': 12.3}]\n"
     ]
    }
   ],
   "source": [
    "def is_cold_windy_rainy_day(d):\n",
    "    avg_temp = (d['tmax'] + d['tmin']) / 2\n",
    "    total_prcp = d['snow'] + d['prcp']\n",
    "    if avg_temp < 45 and total_prcp > 0.7 and d['awnd'] >= 10.0:\n",
    "        return True\n",
    "    return False\n",
    "\n",
    "blustery_days = list(filter(is_cold_windy_rainy_day, weatherdata))\n",
    "print(f\"{len(blustery_days)} cold, windy, rainy days\")\n",
    "print(blustery_days)"
   ]
  },
  {
   "cell_type": "markdown",
   "metadata": {},
   "source": [
    "### Parsing, Sorting and Transforming Ops \n"
   ]
  },
  {
   "cell_type": "code",
   "execution_count": 9,
   "metadata": {},
   "outputs": [
    {
     "name": "stdout",
     "output_type": "stream",
     "text": [
      "1977\n",
      "{'date': '2017-01-01',\n",
      " 'tmin': 41,\n",
      " 'tmax': 50,\n",
      " 'prcp': 0.54,\n",
      " 'snow': 0.0,\n",
      " 'snwd': 0.0,\n",
      " 'awnd': 6.49}\n",
      "{'2017': 365,\n",
      " '2018': 365,\n",
      " '2019': 365,\n",
      " '2020': 366,\n",
      " '2021': 365,\n",
      " '2022': 151}\n"
     ]
    }
   ],
   "source": [
    "# Parsing DATA\n",
    "# Load and parse a JSON data file and determine some information about it\n",
    "# make sure the data loaded correctly by printing the length of the dataset\n",
    "print(len(weatherdata))\n",
    "# let's also take a look at the first item in the data\n",
    "pprint.pp(weatherdata[0])\n",
    "\n",
    "# How many days of data do we have for each year?\n",
    "years = {}\n",
    "for d in weatherdata:\n",
    "    key = d['date'][0:4]\n",
    "    if key in years:\n",
    "        years[key] += 1\n",
    "    else:\n",
    "        years[key] = 1\n",
    "\n",
    "pprint.pp(years, width=5)"
   ]
  },
  {
   "cell_type": "code",
   "execution_count": 24,
   "metadata": {},
   "outputs": [
    {
     "name": "stdout",
     "output_type": "stream",
     "text": [
      "{'date': '2018-12-09',\n",
      " 'tmin': 30,\n",
      " 'tmax': 38,\n",
      " 'prcp': 1.75,\n",
      " 'snow': 7.0,\n",
      " 'snwd': 3.1,\n",
      " 'awnd': 15.21}\n",
      "15\n",
      "{'date': '2018-12-09',\n",
      " 'tmin': 30,\n",
      " 'tmax': 38,\n",
      " 'prcp': 1.75,\n",
      " 'snow': 7.0,\n",
      " 'snwd': 3.1,\n",
      " 'awnd': 15.21}\n",
      "15\n",
      "[{'date': '2018-03-24',\n",
      "  'tmin': 27,\n",
      "  'tmax': 50,\n",
      "  'prcp': 0.91,\n",
      "  'snow': 0.2,\n",
      "  'snwd': 0.0,\n",
      "  'awnd': 3.58},\n",
      " {'date': '2018-01-18',\n",
      "  'tmin': 10,\n",
      "  'tmax': 34,\n",
      "  'prcp': 0.0,\n",
      "  'snow': 0.2,\n",
      "  'snwd': 5.9,\n",
      "  'awnd': 5.59}]\n",
      "15\n"
     ]
    }
   ],
   "source": [
    "# Sort the data in a sequence\n",
    "# create a subset of the data for days that had snowfall\n",
    "dataset = list(filter(lambda d: d['snow'] > 0.0, weatherdata))\n",
    "\n",
    "# sort the entire data set by how much snowfall there was\n",
    "# method 1: use the sorted() function to create a new list\n",
    "sorted_dataset = sorted(dataset, key=lambda d: d['snow'], reverse=True)\n",
    "pprint.pp(sorted_dataset[0])\n",
    "print(len(sorted_dataset))\n",
    "# print(sorted_dataset)\n",
    "\n",
    "# # method 2: use the sort() function that every list has to sort in-place\n",
    "dataset.sort(key=lambda d: d['snow'], reverse=False)\n",
    "pprint.pp(dataset[-1])\n",
    "print(len(dataset))\n",
    "\n",
    "# # Sort on multiple fields: first by snowfall, then by average wind speed\n",
    "sorted_dataset = sorted(dataset, key=lambda d: (d['snow'], d['awnd']))\n",
    "pprint.pp(sorted_dataset[0:2])\n",
    "print(len(sorted_dataset))\n"
   ]
  },
  {
   "cell_type": "code",
   "execution_count": 25,
   "metadata": {},
   "outputs": [
    {
     "name": "stdout",
     "output_type": "stream",
     "text": [
      "{'date': '2017-01-08',\n",
      " 'tmin': 15,\n",
      " 'tmax': 27,\n",
      " 'prcp': 0.0,\n",
      " 'snow': 0.0,\n",
      " 'snwd': 1.2,\n",
      " 'awnd': 4.92}\n",
      "{'date': '2017-01-08',\n",
      " 'tmin': -9.444444444444445,\n",
      " 'tmax': -2.7777777777777777,\n",
      " 'prcp': 0.0,\n",
      " 'snow': 0.0,\n",
      " 'snwd': 30.479999999999997,\n",
      " 'awnd': 7.9179528}\n",
      "[('2017-01-01', 45.5),\n",
      " ('2017-01-08', 21.0),\n",
      " ('2017-01-16', 47.5),\n",
      " ('2017-01-23', 51.5),\n",
      " ('2017-02-07', 62.5)]\n"
     ]
    }
   ],
   "source": [
    "# Transform data from one format to another\n",
    "# the map() function is used to transform data from one form to another\n",
    "# Let's convert the weather data from imperial to metric units\n",
    "import copy\n",
    "\n",
    "def ToC(f): \n",
    "    f = 0 if f is None else f\n",
    "    return (f - 32) * 5/9\n",
    "\n",
    "def ToMM(i): \n",
    "    i = 0 if i is None else i\n",
    "    return i * 25.4\n",
    "\n",
    "def ToKPH(s):\n",
    "    s = 0 if s is None else s\n",
    "    return s * 1.60934\n",
    "\n",
    "def ToMetric(wd):\n",
    "    new_wd = copy.copy(wd)\n",
    "    new_wd['tmin'] = ToC(wd['tmin'])\n",
    "    new_wd['tmax'] = ToC(wd['tmax'])\n",
    "    new_wd['prcp'] = ToMM(wd['prcp'])\n",
    "    new_wd['snow'] = ToMM(wd['snow'])\n",
    "    new_wd['snwd'] = ToMM(wd['snwd'])\n",
    "    new_wd['awnd'] = ToKPH(wd['awnd'])\n",
    "    return new_wd\n",
    "\n",
    "metric_weather = list(map(ToMetric, weatherdata))\n",
    "pprint.pp(weatherdata[1])\n",
    "pprint.pp(metric_weather[1])\n",
    "\n",
    "# use the map() function to convert objects to tuples\n",
    "# in this case, create tuples with a date and the average of tmin and tmax\n",
    "Avg_Temp = lambda t1, t2: (t1 + t2) / 2.0\n",
    "tuple_data = list(map(lambda d: (d['date'], Avg_Temp(d['tmax'],d['tmin'])),weatherdata))\n",
    "pprint.pp(tuple_data[0:5])"
   ]
  },
  {
   "cell_type": "markdown",
   "metadata": {},
   "source": [
    "### Challenge "
   ]
  },
  {
   "cell_type": "code",
   "execution_count": 31,
   "metadata": {},
   "outputs": [
    {
     "name": "stdout",
     "output_type": "stream",
     "text": [
      "1977 1977\n",
      "('2017-02-08', 'warm') ('2021-01-01', 'cold')\n"
     ]
    }
   ],
   "source": [
    "# Challenge: using the weather data set, write code to transform each\n",
    "# weather data point from a dictionary into a tuple value that contains\n",
    "# the date string and a string that is one of \"cold\", \"warm\", \"hot\" based\n",
    "# upon the average temperature for that day. Return the newly created\n",
    "# list of tuples as the result.\n",
    "# \"cold\" day: average temp <= 60\n",
    "# \"warm\" day: average temp between 60 and 80\n",
    "# \"hot\" day: average temp >= 80\n",
    "#\n",
    "# Example: \n",
    "# This weather record:               Becomes this tuple:\n",
    "# {\n",
    "#     \"date\": \"2017-01-01\",          (\"2017-01-01\", \"cold\")\n",
    "#     \"tmin\": 41,\n",
    "#     \"tmax\": 50,\n",
    "#     \"prcp\": 0.54,\n",
    "#     \"snow\": 0.0,\n",
    "#     \"snwd\": 0.0,\n",
    "#     \"awnd\": 6.49\n",
    "# }\n",
    "\n",
    "# create a new list that transforms each element in the weather data\n",
    "def average_temp_to_desc(day_data):\n",
    "    avg_temp = (day_data['tmin'] + day_data['tmax']) /2\n",
    "    desc = \"\"\n",
    "    if avg_temp <= 60:\n",
    "        desc = \"cold\"\n",
    "    elif avg_temp > 60 and avg_temp < 80:\n",
    "        desc = \"warm\"\n",
    "    else:\n",
    "        desc = \"hot\"\n",
    "    return (day_data['date'], desc)\n",
    "    \n",
    "newdata = list(map(average_temp_to_desc, weatherdata))\n",
    "print(len(weatherdata), len(newdata))\n",
    "print(newdata[5], newdata[-100])"
   ]
  },
  {
   "cell_type": "markdown",
   "metadata": {},
   "source": [
    "## Collections Ops"
   ]
  },
  {
   "cell_type": "markdown",
   "metadata": {},
   "source": [
    "### Working with date values"
   ]
  },
  {
   "cell_type": "code",
   "execution_count": 32,
   "metadata": {},
   "outputs": [],
   "source": [
    "# Working with date values\n",
    "from datetime import date, timedelta"
   ]
  },
  {
   "cell_type": "code",
   "execution_count": 33,
   "metadata": {},
   "outputs": [
    {
     "name": "stdout",
     "output_type": "stream",
     "text": [
      "2017-01-01\n",
      "6\n"
     ]
    }
   ],
   "source": [
    "# The datetime module converts strings into dates fairly easily\n",
    "dateobj = date.fromisoformat(weatherdata[0]['date'])\n",
    "print(dateobj)\n",
    "# Date objects give us information such as day of week (0=Monday, 6=Sunday)\n",
    "print(dateobj.weekday())"
   ]
  },
  {
   "cell_type": "code",
   "execution_count": 34,
   "metadata": {},
   "outputs": [
    {
     "name": "stdout",
     "output_type": "stream",
     "text": [
      "Sun, 23 Jul 2017\n"
     ]
    }
   ],
   "source": [
    "# what was the warmest weekend day in the dataset?\n",
    "def is_weekend_day(d):\n",
    "    day = date.fromisoformat(d['date'])\n",
    "    return (day.weekday() == 5 or day.weekday() == 6)\n",
    "\n",
    "weekend_days = list(filter(is_weekend_day, weatherdata))\n",
    "warmest_day = max(weekend_days, key=lambda d: d['tmax'])\n",
    "print(date.fromisoformat(warmest_day['date']).strftime('%a, %d %b %Y'))\n"
   ]
  },
  {
   "cell_type": "code",
   "execution_count": 36,
   "metadata": {},
   "outputs": [
    {
     "name": "stdout",
     "output_type": "stream",
     "text": [
      "The coldest day of the year was 2018-01-07 (4)\n",
      "The average temp for the next 7 days was 45.0\n"
     ]
    }
   ],
   "source": [
    "\n",
    "# The timedelta object provides an easy way of performing date math\n",
    "# find the coldest day of the year and get the average temp for the following week\n",
    "coldest_day = min(weatherdata, key=lambda d: d['tmin'])\n",
    "# convert the date to a Python date\n",
    "coldest_date = date.fromisoformat(coldest_day['date'])\n",
    "print(f\"The coldest day of the year was {str(coldest_date)} ({coldest_day['tmin']})\")\n",
    "\n",
    "# Look up the next 7 days\n",
    "avg_temp = 0.0\n",
    "next_date = coldest_date\n",
    "for _ in range(7):\n",
    "    next_date += timedelta(days=1)\n",
    "    # find the weather object for that date in the list\n",
    "    wd = next((day for day in weatherdata if day['date'] == str(next_date)), None)\n",
    "    avg_temp += (wd['tmin'] + wd['tmax']) / 2\n",
    "\n",
    "avg_temp = avg_temp / 7\n",
    "print(f\"The average temp for the next 7 days was {avg_temp}\")\n"
   ]
  },
  {
   "cell_type": "markdown",
   "metadata": {},
   "source": [
    "### default dictionary usages"
   ]
  },
  {
   "cell_type": "code",
   "execution_count": 37,
   "metadata": {},
   "outputs": [],
   "source": [
    "# Count items using a default dictionary\n",
    "from collections import defaultdict\n"
   ]
  },
  {
   "cell_type": "code",
   "execution_count": 38,
   "metadata": {},
   "outputs": [
    {
     "name": "stdout",
     "output_type": "stream",
     "text": [
      "defaultdict(<class 'int'>,\n",
      "            {'2017': 365,\n",
      "             '2018': 365,\n",
      "             '2019': 365,\n",
      "             '2020': 366,\n",
      "             '2021': 365,\n",
      "             '2022': 151})\n"
     ]
    }
   ],
   "source": [
    "# The defaultdict collection provides a cleaner way of initializing key values\n",
    "# Count the number of data points for each year we have data\n",
    "years = defaultdict(int)\n",
    "for d in weatherdata:\n",
    "    key = d['date'][0:4]\n",
    "    years[key] += 1\n",
    "pprint.pp(years)"
   ]
  },
  {
   "cell_type": "code",
   "execution_count": 41,
   "metadata": {},
   "outputs": [
    {
     "name": "stdout",
     "output_type": "stream",
     "text": [
      "65\n"
     ]
    }
   ],
   "source": [
    "# defaultdict can use more complex objects, like lists\n",
    "years_months = defaultdict(list)\n",
    "# create a dictionary with year-month keys and lists for each day in the month\n",
    "for d in weatherdata:\n",
    "    key = d['date'][0:7]\n",
    "    years_months[key].append(d)\n",
    "print(len(years_months))\n",
    "\n"
   ]
  },
  {
   "cell_type": "code",
   "execution_count": 43,
   "metadata": {},
   "outputs": [
    {
     "name": "stdout",
     "output_type": "stream",
     "text": [
      "Warmest day in 2017-01: ('2017-01-13', 76)\n",
      "Coldest day in 2017-01: ('2017-01-09', 9)\n",
      "Warmest day in 2017-02: ('2017-02-12', 83)\n",
      "Coldest day in 2017-02: ('2017-02-04', 26)\n",
      "Warmest day in 2017-03: ('2017-03-21', 82)\n",
      "Coldest day in 2017-03: ('2017-03-17', 23)\n",
      "Warmest day in 2017-04: ('2017-04-29', 89)\n",
      "Coldest day in 2017-04: ('2017-04-08', 34)\n",
      "Warmest day in 2017-05: ('2017-05-20', 90)\n",
      "Coldest day in 2017-05: ('2017-05-09', 43)\n",
      "Warmest day in 2017-06: ('2017-06-14', 93)\n",
      "Coldest day in 2017-06: ('2017-06-09', 53)\n",
      "Warmest day in 2017-07: ('2017-07-23', 102)\n",
      "Coldest day in 2017-07: ('2017-07-31', 58)\n",
      "Warmest day in 2017-08: ('2017-08-18', 98)\n",
      "Coldest day in 2017-08: ('2017-08-30', 59)\n",
      "Warmest day in 2017-09: ('2017-09-28', 94)\n",
      "Coldest day in 2017-09: ('2017-09-10', 51)\n",
      "Warmest day in 2017-10: ('2017-10-09', 92)\n",
      "Coldest day in 2017-10: ('2017-10-30', 36)\n",
      "Warmest day in 2017-11: ('2017-11-03', 81)\n",
      "Coldest day in 2017-11: ('2017-11-24', 26)\n",
      "Warmest day in 2017-12: ('2017-12-23', 71)\n",
      "Coldest day in 2017-12: ('2017-12-29', 15)\n",
      "Warmest day in 2018-01: ('2018-01-12', 71)\n",
      "Coldest day in 2018-01: ('2018-01-07', 4)\n",
      "Warmest day in 2018-02: ('2018-02-16', 81)\n",
      "Coldest day in 2018-02: ('2018-02-03', 18)\n",
      "Warmest day in 2018-03: ('2018-03-29', 80)\n",
      "Coldest day in 2018-03: ('2018-03-15', 24)\n",
      "Warmest day in 2018-04: ('2018-04-18', 82)\n",
      "Coldest day in 2018-04: ('2018-04-08', 32)\n",
      "Warmest day in 2018-05: ('2018-05-13', 93)\n",
      "Coldest day in 2018-05: ('2018-05-01', 45)\n",
      "Warmest day in 2018-06: ('2018-06-19', 96)\n",
      "Coldest day in 2018-06: ('2018-06-05', 57)\n",
      "Warmest day in 2018-07: ('2018-07-17', 98)\n",
      "Coldest day in 2018-07: ('2018-07-09', 57)\n",
      "Warmest day in 2018-08: ('2018-08-30', 95)\n",
      "Coldest day in 2018-08: ('2018-08-24', 55)\n",
      "Warmest day in 2018-09: ('2018-09-01', 93)\n",
      "Coldest day in 2018-09: ('2018-09-29', 60)\n",
      "Warmest day in 2018-10: ('2018-10-05', 90)\n",
      "Coldest day in 2018-10: ('2018-10-22', 34)\n",
      "Warmest day in 2018-11: ('2018-11-01', 75)\n",
      "Coldest day in 2018-11: ('2018-11-28', 25)\n",
      "Warmest day in 2018-12: ('2018-12-02', 71)\n",
      "Coldest day in 2018-12: ('2018-12-12', 24)\n",
      "Warmest day in 2019-01: ('2019-01-01', 71)\n",
      "Coldest day in 2019-01: ('2019-01-21', 17)\n",
      "Warmest day in 2019-02: ('2019-02-07', 79)\n",
      "Coldest day in 2019-02: ('2019-02-01', 27)\n",
      "Warmest day in 2019-03: ('2019-03-30', 76)\n",
      "Coldest day in 2019-03: ('2019-03-07', 23)\n",
      "Warmest day in 2019-04: ('2019-04-30', 86)\n",
      "Coldest day in 2019-04: ('2019-04-03', 31)\n",
      "Warmest day in 2019-05: ('2019-05-28', 96)\n",
      "Coldest day in 2019-05: ('2019-05-15', 43)\n",
      "Warmest day in 2019-06: ('2019-06-28', 97)\n",
      "Coldest day in 2019-06: ('2019-06-15', 51)\n",
      "Warmest day in 2019-07: ('2019-07-21', 99)\n",
      "Coldest day in 2019-07: ('2019-07-24', 62)\n",
      "Warmest day in 2019-08: ('2019-08-13', 96)\n",
      "Coldest day in 2019-08: ('2019-08-30', 57)\n",
      "Warmest day in 2019-09: ('2019-09-12', 96)\n",
      "Coldest day in 2019-09: ('2019-09-20', 50)\n",
      "Warmest day in 2019-10: ('2019-10-03', 100)\n",
      "Coldest day in 2019-10: ('2019-10-19', 39)\n",
      "Warmest day in 2019-11: ('2019-11-05', 73)\n",
      "Coldest day in 2019-11: ('2019-11-14', 24)\n",
      "Warmest day in 2019-12: ('2019-12-10', 76)\n",
      "Coldest day in 2019-12: ('2019-12-20', 25)\n",
      "Warmest day in 2020-01: ('2020-01-11', 72)\n",
      "Coldest day in 2020-01: ('2020-01-21', 24)\n",
      "Warmest day in 2020-02: ('2020-02-03', 74)\n",
      "Coldest day in 2020-02: ('2020-02-22', 22)\n",
      "Warmest day in 2020-03: ('2020-03-28', 89)\n",
      "Coldest day in 2020-03: ('2020-03-01', 24)\n",
      "Warmest day in 2020-04: ('2020-04-07', 84)\n",
      "Coldest day in 2020-04: ('2020-04-11', 32)\n",
      "Warmest day in 2020-05: ('2020-05-16', 89)\n",
      "Coldest day in 2020-05: ('2020-05-10', 36)\n",
      "Warmest day in 2020-06: ('2020-06-10', 92)\n",
      "Coldest day in 2020-06: ('2020-06-01', 54)\n",
      "Warmest day in 2020-07: ('2020-07-20', 97)\n",
      "Coldest day in 2020-07: ('2020-07-03', 66)\n",
      "Warmest day in 2020-08: ('2020-08-01', 94)\n",
      "Coldest day in 2020-08: ('2020-08-17', 64)\n",
      "Warmest day in 2020-09: ('2020-09-03', 93)\n",
      "Coldest day in 2020-09: ('2020-09-22', 44)\n",
      "Warmest day in 2020-10: ('2020-10-07', 83)\n",
      "Coldest day in 2020-10: ('2020-10-18', 40)\n",
      "Warmest day in 2020-11: ('2020-11-08', 79)\n",
      "Coldest day in 2020-11: ('2020-11-19', 28)\n",
      "Warmest day in 2020-12: ('2020-12-13', 69)\n",
      "Coldest day in 2020-12: ('2020-12-26', 20)\n",
      "Warmest day in 2021-01: ('2021-01-22', 60)\n",
      "Coldest day in 2021-01: ('2021-01-30', 20)\n",
      "Warmest day in 2021-02: ('2021-02-28', 77)\n",
      "Coldest day in 2021-02: ('2021-02-21', 22)\n",
      "Warmest day in 2021-03: ('2021-03-12', 80)\n",
      "Coldest day in 2021-03: ('2021-03-08', 26)\n",
      "Warmest day in 2021-04: ('2021-04-29', 86)\n",
      "Coldest day in 2021-04: ('2021-04-03', 26)\n",
      "Warmest day in 2021-05: ('2021-05-26', 94)\n",
      "Coldest day in 2021-05: ('2021-05-13', 37)\n",
      "Warmest day in 2021-06: ('2021-06-30', 92)\n",
      "Coldest day in 2021-06: ('2021-06-01', 53)\n",
      "Warmest day in 2021-07: ('2021-07-30', 96)\n",
      "Coldest day in 2021-07: ('2021-07-03', 59)\n",
      "Warmest day in 2021-08: ('2021-08-13', 100)\n",
      "Coldest day in 2021-08: ('2021-08-06', 61)\n",
      "Warmest day in 2021-09: ('2021-09-08', 93)\n",
      "Coldest day in 2021-09: ('2021-09-25', 49)\n",
      "Warmest day in 2021-10: ('2021-10-04', 88)\n",
      "Coldest day in 2021-10: ('2021-10-18', 42)\n",
      "Warmest day in 2021-11: ('2021-11-10', 79)\n",
      "Coldest day in 2021-11: ('2021-11-24', 24)\n",
      "Warmest day in 2021-12: ('2021-12-28', 75)\n",
      "Coldest day in 2021-12: ('2021-12-13', 27)\n",
      "Warmest day in 2022-01: ('2022-01-01', 79)\n",
      "Coldest day in 2022-01: ('2022-01-30', 15)\n",
      "Warmest day in 2022-02: ('2022-02-17', 75)\n",
      "Coldest day in 2022-02: ('2022-02-15', 23)\n",
      "Warmest day in 2022-03: ('2022-03-03', 84)\n",
      "Coldest day in 2022-03: ('2022-03-13', 23)\n",
      "Warmest day in 2022-04: ('2022-04-26', 88)\n",
      "Coldest day in 2022-04: ('2022-04-20', 34)\n",
      "Warmest day in 2022-05: ('2022-05-20', 96)\n",
      "Coldest day in 2022-05: ('2022-05-09', 44)\n"
     ]
    }
   ],
   "source": [
    "# What were the coldest and warmest days of each month?\n",
    "def warmest_day(month):\n",
    "    wd = max(month, key=lambda d: d['tmax'])\n",
    "    return (wd['date'], wd['tmax'])\n",
    "\n",
    "def coldest_day(month):\n",
    "    cd = min(month, key=lambda d: d['tmin'])\n",
    "    return (cd['date'], cd['tmin'])\n",
    "\n",
    "# loop over the keys of the dictionary and find each warmest and coldest day\n",
    "for year_month, daylist in years_months.items():\n",
    "    print(f\"Warmest day in {year_month}: {warmest_day(daylist)}\")\n",
    "    print(f\"Coldest day in {year_month}: {coldest_day(daylist)}\")"
   ]
  },
  {
   "cell_type": "markdown",
   "metadata": {},
   "source": [
    "### Using the reduce function"
   ]
  },
  {
   "cell_type": "code",
   "execution_count": 44,
   "metadata": {},
   "outputs": [],
   "source": [
    "# Using the reduce function\n",
    "from functools import reduce"
   ]
  },
  {
   "cell_type": "code",
   "execution_count": 45,
   "metadata": {},
   "outputs": [
    {
     "name": "stdout",
     "output_type": "stream",
     "text": [
      "25.38\n",
      "293.79999999999995\n"
     ]
    }
   ],
   "source": [
    "# how much snowfall is in the entire dataset?\n",
    "total_snowfall = reduce(lambda acc, elem: acc + elem['snow'], weatherdata, 0)\n",
    "print(total_snowfall)\n",
    "\n",
    "# how much total precipitation is in the entire dataset?\n",
    "total_precip = reduce(lambda acc, elem: acc + (elem['snow'] + elem['prcp']), weatherdata, 0)\n",
    "print(total_precip)"
   ]
  },
  {
   "cell_type": "code",
   "execution_count": 46,
   "metadata": {},
   "outputs": [
    {
     "name": "stdout",
     "output_type": "stream",
     "text": [
      "2018-03-24 with temp: 50 and snowfall: 0.2\n"
     ]
    }
   ],
   "source": [
    "# What was the warmest day in which it snowed? Need to find highest 'tmax' for all\n",
    "# days where 'snow' > 0\n",
    "def warm_snow_day(acc, elem):\n",
    "    # return the current element if the snow amount > 0 and its tmax value is\n",
    "    # larger than the tmax value that is in the acc argument\n",
    "    return elem if elem['snow'] > 0 and elem['tmax'] > acc['tmax'] else acc\n",
    "\n",
    "# define a \"zero\" value start date for the reduce function to start with\n",
    "start_val = {\n",
    "    \"date\": \"1900-01-01\",\n",
    "    \"tmin\": 0,\n",
    "    \"tmax\": 0,\n",
    "    \"prcp\": 0.0,\n",
    "    \"snow\": 0.0,\n",
    "    \"snwd\": 0.0,\n",
    "    \"awnd\": 0.0\n",
    "}\n",
    "\n",
    "# reduce the data set to the warmest snow day\n",
    "result = reduce(warm_snow_day, weatherdata, start_val)\n",
    "print(f\"{result['date']} with temp: {result['tmax']} and snowfall: {result['snow']}\")"
   ]
  },
  {
   "cell_type": "markdown",
   "metadata": {},
   "source": [
    "### Grouping data"
   ]
  },
  {
   "cell_type": "code",
   "execution_count": 47,
   "metadata": {},
   "outputs": [],
   "source": [
    "from itertools import groupby"
   ]
  },
  {
   "cell_type": "code",
   "execution_count": 54,
   "metadata": {},
   "outputs": [
    {
     "name": "stdout",
     "output_type": "stream",
     "text": [
      "36 total precipitation groups\n",
      "['2022-05-08', '2022-05-16', '2022-02-25', '2022-05-19', '2022-05-26']\n",
      "36 total precipitation groups\n",
      "Precip: 0.0, # days: 104, Days: ['2022-01-08', '2022-01-17', '2022-01-26', '2022-02-05', '2022-02-08', '2022-02-15', '2022-02-16', '2022-02-20', '2022-02-22', '2022-03-05', '2022-03-13', '2022-03-20', '2022-03-22', '2022-04-01', '2022-04-02', '2022-04-06', '2022-04-11', '2022-04-14', '2022-04-17', '2022-04-23', '2022-04-28', '2022-01-04', '2022-01-10', '2022-02-02', '2022-02-11', '2022-02-12', '2022-02-13', '2022-02-17', '2022-03-02', '2022-03-21', '2022-03-25', '2022-03-29', '2022-04-13', '2022-04-16', '2022-04-20', '2022-04-24', '2022-05-02', '2022-05-04', '2022-05-05', '2022-05-09', '2022-05-10', '2022-05-13', '2022-05-15', '2022-05-17', '2022-05-18', '2022-05-20', '2022-05-24', '2022-05-31', '2022-01-27', '2022-02-09', '2022-02-19', '2022-02-21', '2022-02-28', '2022-03-01', '2022-03-03', '2022-03-19', '2022-03-26', '2022-03-30', '2022-04-04', '2022-04-21', '2022-04-22', '2022-04-27', '2022-05-22', '2022-01-05', '2022-01-07', '2022-01-15', '2022-01-19', '2022-01-23', '2022-01-24', '2022-01-25', '2022-01-28', '2022-02-10', '2022-03-15', '2022-03-27', '2022-04-03', '2022-04-09', '2022-04-12', '2022-04-19', '2022-04-29', '2022-05-03', '2022-05-14', '2022-05-25', '2022-05-30', '2022-01-06', '2022-01-11', '2022-01-12', '2022-01-13', '2022-01-14', '2022-01-18', '2022-01-30', '2022-01-31', '2022-02-01', '2022-02-06', '2022-02-14', '2022-03-04', '2022-03-06', '2022-03-14', '2022-03-18', '2022-03-28', '2022-04-10', '2022-04-25', '2022-04-30', '2022-05-11', '2022-05-29']\n",
      "Precip: 0.01, # days: 5, Days: ['2022-05-08', '2022-05-16', '2022-02-25', '2022-05-19', '2022-05-26']\n",
      "Precip: 0.02, # days: 3, Days: ['2022-02-03', '2022-05-07', '2022-02-26']\n",
      "Precip: 0.03, # days: 1, Days: ['2022-04-15']\n",
      "Precip: 0.04, # days: 1, Days: ['2022-02-24']\n",
      "Precip: 0.05, # days: 3, Days: ['2022-03-10', '2022-01-29', '2022-04-07']\n",
      "Precip: 0.06, # days: 3, Days: ['2022-01-22', '2022-03-11', '2022-04-26']\n",
      "Precip: 0.07, # days: 1, Days: ['2022-05-12']\n",
      "Precip: 0.09, # days: 1, Days: ['2022-02-23']\n",
      "Precip: 0.11, # days: 1, Days: ['2022-03-07']\n",
      "Precip: 0.13, # days: 1, Days: ['2022-03-23']\n",
      "Precip: 0.15, # days: 1, Days: ['2022-01-21']\n",
      "Precip: 0.16, # days: 2, Days: ['2022-02-18', '2022-04-08']\n",
      "Precip: 0.19, # days: 1, Days: ['2022-02-27']\n",
      "Precip: 0.29, # days: 1, Days: ['2022-05-21']\n",
      "Precip: 0.3, # days: 1, Days: ['2022-02-04']\n",
      "Precip: 0.34, # days: 1, Days: ['2022-01-20']\n",
      "Precip: 0.36, # days: 1, Days: ['2022-04-05']\n",
      "Precip: 0.39, # days: 1, Days: ['2022-03-08']\n",
      "Precip: 0.42, # days: 1, Days: ['2022-03-09']\n",
      "Precip: 0.43, # days: 1, Days: ['2022-01-01']\n",
      "Precip: 0.47, # days: 1, Days: ['2022-03-24']\n",
      "Precip: 0.53, # days: 1, Days: ['2022-02-07']\n",
      "Precip: 0.55, # days: 1, Days: ['2022-03-17']\n",
      "Precip: 0.62, # days: 2, Days: ['2022-01-09', '2022-05-28']\n",
      "Precip: 0.65, # days: 1, Days: ['2022-03-16']\n",
      "Precip: 0.72, # days: 1, Days: ['2022-03-31']\n",
      "Precip: 0.81, # days: 1, Days: ['2022-01-02']\n",
      "Precip: 0.82, # days: 1, Days: ['2022-05-01']\n",
      "Precip: 0.97, # days: 1, Days: ['2022-05-06']\n",
      "Precip: 1.01, # days: 1, Days: ['2022-03-12']\n",
      "Precip: 1.12, # days: 1, Days: ['2022-05-27']\n",
      "Precip: 1.22, # days: 1, Days: ['2022-01-16']\n",
      "Precip: 1.29, # days: 1, Days: ['2022-05-23']\n",
      "Precip: 1.39, # days: 1, Days: ['2022-04-18']\n",
      "Precip: 2.29, # days: 1, Days: ['2022-01-03']\n"
     ]
    }
   ],
   "source": [
    "# get all the measurements for a particular year\n",
    "year = [day for day in weatherdata if \"2022\" in day['date']]\n",
    "\n",
    "# create manual grouping of days that had a certain level of precipitation\n",
    "year.sort(key=lambda d:d['prcp'])\n",
    "datagroup = defaultdict(list)\n",
    "for d in year:\n",
    "    datagroup[d['prcp']].append(d['date'])\n",
    "print(f\"{len(datagroup)} total precipitation groups\")\n",
    "# pprint.pp(datagroup)\n",
    "pprint.pp(datagroup[0.01]) #0.01 is key \n",
    "\n",
    "# Use groupby to get the days of a given year by how much precipitation happened\n",
    "grouped = {k: list(v) for k, v in groupby(year, key=lambda d: d['prcp'])}\n",
    "\n",
    "# How many groups do we have? Now we can use len() on the dictionary\n",
    "print(f\"{len(grouped)} total precipitation groups\")\n",
    "\n",
    "# we can iterate over the dictionary to list each group\n",
    "for key, data in grouped.items():\n",
    "    print(f\"Precip: {key}, # days: {len(data)}, Days: {list(map(lambda d: d['date'], data))}\")"
   ]
  },
  {
   "cell_type": "markdown",
   "metadata": {},
   "source": [
    "### challenge "
   ]
  },
  {
   "cell_type": "code",
   "execution_count": 55,
   "metadata": {},
   "outputs": [
    {
     "name": "stdout",
     "output_type": "stream",
     "text": [
      "2018-04-15 with data: 82, 3.31, 12.53\n"
     ]
    }
   ],
   "source": [
    "# Challenge: using the reduce() function, return the most \"miserable\" day\n",
    "# in the data set as calculated by a combination of heat, rain, and wind.\n",
    "#\n",
    "# To calculate a \"misery score\", use the following formula:\n",
    "# score = (average wind speed + (precipitation * 10) + (max temp * 0.8)) / 3\n",
    "\n",
    "def misery_score(day):\n",
    "    wind = 0 if day['awnd'] is None else day['awnd']\n",
    "    temp = day['tmax'] * 0.8\n",
    "    rain = day['prcp'] * 10\n",
    "\n",
    "    score = (temp + rain + wind) / 3\n",
    "    return score\n",
    "\n",
    "def day_rank(acc, elem):\n",
    "    return acc if misery_score(acc) >= misery_score(elem) else elem\n",
    "\n",
    "result = reduce(day_rank, weatherdata)\n",
    "print(f\"{result['date']} with data: {result['tmax']}, {result['prcp']}, {result['awnd']}\")"
   ]
  },
  {
   "cell_type": "markdown",
   "metadata": {},
   "source": [
    "## Maths And Stats"
   ]
  },
  {
   "cell_type": "markdown",
   "metadata": {},
   "source": [
    "### Random values and random Ops"
   ]
  },
  {
   "cell_type": "code",
   "execution_count": 57,
   "metadata": {},
   "outputs": [],
   "source": [
    "import random"
   ]
  },
  {
   "cell_type": "code",
   "execution_count": 59,
   "metadata": {},
   "outputs": [
    {
     "name": "stdout",
     "output_type": "stream",
     "text": [
      "0.6359113725475056\n",
      "14\n",
      "14\n",
      "[{'date': '2019-08-18', 'tmin': 70, 'tmax': 92, 'prcp': 0.0, 'snow': 0.0, 'snwd': 0.0, 'awnd': 2.91}, {'date': '2019-07-05', 'tmin': 70, 'tmax': 91, 'prcp': 0.31, 'snow': 0.0, 'snwd': 0.0, 'awnd': 4.7}, {'date': '2019-07-31', 'tmin': 69, 'tmax': 95, 'prcp': 0.24, 'snow': 0.0, 'snwd': 0.0, 'awnd': 3.36}, {'date': '2019-08-15', 'tmin': 72, 'tmax': 90, 'prcp': 0.0, 'snow': 0.0, 'snwd': 0.0, 'awnd': 3.8}, {'date': '2019-08-20', 'tmin': 71, 'tmax': 93, 'prcp': 0.0, 'snow': 0.0, 'snwd': 0.0, 'awnd': 7.61}]\n",
      "{'date': '2019-08-20', 'tmin': 71, 'tmax': 93, 'prcp': 0.0, 'snow': 0.0, 'snwd': 0.0, 'awnd': 7.61}\n"
     ]
    }
   ],
   "source": [
    "# the random module can be used to generate random values\n",
    "print(random.random())\n",
    "\n",
    "# choose a random number in a range including both points\n",
    "print(random.randint(10,20))\n",
    "# choose a random number in a range excluding end point\n",
    "print(random.randrange(10,20))\n",
    "\n",
    "# build a list of the summer days in 2019\n",
    "def is_summer_day(d):\n",
    "    summer_months = [\"2019-07-\", \"2019-08-\"]\n",
    "    if any([m in d['date'] for m in summer_months]):\n",
    "        return True\n",
    "    return False\n",
    "summer_2019 = list(filter(is_summer_day, weatherdata))\n",
    "\n",
    "# choose 5 random days from that summer\n",
    "random_days = []\n",
    "for _ in range(5):\n",
    "    random_days.append(summer_2019[random.randrange(len(summer_2019))])\n",
    "print(random_days)\n",
    "\n",
    "# what was the windiest of those 5 days?\n",
    "print(max(random_days, key=lambda d:d['awnd']))"
   ]
  },
  {
   "cell_type": "code",
   "execution_count": 60,
   "metadata": {},
   "outputs": [
    {
     "name": "stdout",
     "output_type": "stream",
     "text": [
      "[{'date': '2017-01-01',\n",
      "  'tmin': 41,\n",
      "  'tmax': 50,\n",
      "  'prcp': 0.54,\n",
      "  'snow': 0.0,\n",
      "  'snwd': 0.0,\n",
      "  'awnd': 6.49},\n",
      " {'date': '2017-01-08',\n",
      "  'tmin': 15,\n",
      "  'tmax': 27,\n",
      "  'prcp': 0.0,\n",
      "  'snow': 0.0,\n",
      "  'snwd': 1.2,\n",
      "  'awnd': 4.92},\n",
      " {'date': '2017-01-16',\n",
      "  'tmin': 44,\n",
      "  'tmax': 51,\n",
      "  'prcp': 0.0,\n",
      "  'snow': 0.0,\n",
      "  'snwd': 0.0,\n",
      "  'awnd': 4.47}]\n",
      "---------------------------\n",
      "[{'date': '2017-02-08',\n",
      "  'tmin': 54,\n",
      "  'tmax': 74,\n",
      "  'prcp': 0.09,\n",
      "  'snow': 0.0,\n",
      "  'snwd': 0.0,\n",
      "  'awnd': 5.82},\n",
      " {'date': '2017-02-25',\n",
      "  'tmin': 52,\n",
      "  'tmax': 81,\n",
      "  'prcp': 0.0,\n",
      "  'snow': 0.0,\n",
      "  'snwd': 0.0,\n",
      "  'awnd': 13.2},\n",
      " {'date': '2017-04-09',\n",
      "  'tmin': 38,\n",
      "  'tmax': 77,\n",
      "  'prcp': 0.0,\n",
      "  'snow': 0.0,\n",
      "  'snwd': 0.0,\n",
      "  'awnd': 4.47}]\n",
      "{'date': '2017-03-08',\n",
      " 'tmin': 46,\n",
      " 'tmax': 69,\n",
      " 'prcp': 0.05,\n",
      " 'snow': 0.0,\n",
      " 'snwd': 0.0,\n",
      " 'awnd': 8.5}\n",
      "---------------------------\n",
      "[{'date': '2017-04-11',\n",
      "  'tmin': 55,\n",
      "  'tmax': 82,\n",
      "  'prcp': 0.0,\n",
      "  'snow': 0.0,\n",
      "  'snwd': 0.0,\n",
      "  'awnd': 10.51},\n",
      " {'date': '2017-01-01',\n",
      "  'tmin': 41,\n",
      "  'tmax': 50,\n",
      "  'prcp': 0.54,\n",
      "  'snow': 0.0,\n",
      "  'snwd': 0.0,\n",
      "  'awnd': 6.49},\n",
      " {'date': '2017-06-01',\n",
      "  'tmin': 62,\n",
      "  'tmax': 85,\n",
      "  'prcp': 0.0,\n",
      "  'snow': 0.0,\n",
      "  'snwd': 0.0,\n",
      "  'awnd': 1.57}]\n",
      "[{'date': '2017-05-29',\n",
      "  'tmin': 64,\n",
      "  'tmax': 87,\n",
      "  'prcp': 0.08,\n",
      "  'snow': 0.0,\n",
      "  'snwd': 0.0,\n",
      "  'awnd': 3.13},\n",
      " {'date': '2017-05-23',\n",
      "  'tmin': 67,\n",
      "  'tmax': 71,\n",
      "  'prcp': 0.69,\n",
      "  'snow': 0.0,\n",
      "  'snwd': 0.0,\n",
      "  'awnd': 4.47},\n",
      " {'date': '2017-04-09',\n",
      "  'tmin': 38,\n",
      "  'tmax': 77,\n",
      "  'prcp': 0.0,\n",
      "  'snow': 0.0,\n",
      "  'snwd': 0.0,\n",
      "  'awnd': 4.47}]\n"
     ]
    }
   ],
   "source": [
    "# get the first 30 days in the dataset\n",
    "month_data = weatherdata[0:30]\n",
    "\n",
    "# the shuffle() function will randomly shuffle a list in-place\n",
    "pprint.pp(month_data[0:3])\n",
    "print(\"---------------------------\")\n",
    "random.shuffle(month_data)\n",
    "pprint.pp(month_data[0:3])\n",
    "\n",
    "# use choice() and choices() to get random items, but beware that\n",
    "# these functions can produce duplicate results\n",
    "rnd_day = random.choice(month_data)\n",
    "pprint.pp(rnd_day)\n",
    "print(\"---------------------------\")\n",
    "\n",
    "rnd_days = random.choices(month_data, k=3)\n",
    "pprint.pp(rnd_days)\n",
    "\n",
    "# the sample() function will choose random items with no duplicates\n",
    "rnd_days = random.sample(month_data, k=3)\n",
    "pprint.pp(rnd_days)"
   ]
  },
  {
   "cell_type": "markdown",
   "metadata": {},
   "source": [
    "### Statical functions"
   ]
  },
  {
   "cell_type": "code",
   "execution_count": 61,
   "metadata": {},
   "outputs": [
    {
     "name": "stdout",
     "output_type": "stream",
     "text": [
      "Data for 460 summer days\n",
      "89.02608695652174\n",
      "68.75434782608696\n",
      "90.0\n",
      "70.0\n",
      "100.02645809564457\n",
      "58.998620474428655\n",
      "Upper outliers [101, 102]\n",
      "Lower outliers [57, 51, 58, 53, 55, 53, 53, 57, 55, 54, 57, 57, 57, 57, 55, 58, 58, 56, 57]\n"
     ]
    }
   ],
   "source": [
    "# Using the statistics package\n",
    "import statistics\n",
    "# select the days from the summer months from all the years\n",
    "summers = [\"-06-\",\"-07-\",\"-08-\"]\n",
    "summer_months = [d for d in weatherdata if any([month in d['date'] for month in summers])]\n",
    "print(f\"Data for {len(summer_months)} summer days\")\n",
    "\n",
    "# calculate the mean for both min and max temperatures\n",
    "max_temps = [d['tmax'] for d in summer_months]\n",
    "min_temps = [d['tmin'] for d in summer_months]\n",
    "print(max_mean := statistics.mean(max_temps))\n",
    "print(min_mean := statistics.mean(min_temps))\n",
    "\n",
    "# calculate the median values for min and max temperatures\n",
    "print(statistics.median(max_temps))\n",
    "print(statistics.median(min_temps))\n",
    "\n",
    "# use the standard deviation function to find outlier temperatures\n",
    "upper_outlier = max_mean + statistics.stdev(max_temps) * 2\n",
    "lower_outlier = min_mean - statistics.stdev(min_temps) * 2\n",
    "print(upper_outlier)\n",
    "print(lower_outlier)\n",
    "\n",
    "max_outliers = [t for t in max_temps if t >= upper_outlier] \n",
    "min_outliers = [t for t in min_temps if t <= lower_outlier] \n",
    "print(\"Upper outliers\", max_outliers)\n",
    "print(\"Lower outliers\", min_outliers)"
   ]
  },
  {
   "cell_type": "markdown",
   "metadata": {},
   "source": [
    "### Challenge "
   ]
  },
  {
   "cell_type": "code",
   "execution_count": 62,
   "metadata": {},
   "outputs": [
    {
     "name": "stdout",
     "output_type": "stream",
     "text": [
      "45.542156862745095\n",
      "15\n",
      "[{'date': '2017-02-25', 'tmin': 52, 'tmax': 81, 'prcp': 0.0, 'snow': 0.0, 'snwd': 0.0, 'awnd': 13.2}, {'date': '2018-02-16', 'tmin': 56, 'tmax': 81, 'prcp': 0.02, 'snow': 0.0, 'snwd': 0.0, 'awnd': 13.42}, {'date': '2018-02-21', 'tmin': 63, 'tmax': 77, 'prcp': 0.0, 'snow': 0.0, 'snwd': 0.0, 'awnd': 8.95}, {'date': '2020-02-11', 'tmin': 61, 'tmax': 71, 'prcp': 0.42, 'snow': 0.0, 'snwd': 0.0, 'awnd': 12.3}, {'date': '2022-02-22', 'tmin': 59, 'tmax': 73, 'prcp': 0.0, 'snow': 0.0, 'snwd': 0.0, 'awnd': 11.4}, {'date': '2020-01-12', 'tmin': 63, 'tmax': 70, 'prcp': 0.31, 'snow': 0.0, 'snwd': 0.0, 'awnd': 9.17}, {'date': '2018-02-11', 'tmin': 64, 'tmax': 72, 'prcp': 0.0, 'snow': 0.0, 'snwd': 0.0, 'awnd': 14.99}, {'date': '2018-02-24', 'tmin': 57, 'tmax': 78, 'prcp': 0.0, 'snow': 0.0, 'snwd': 0.0, 'awnd': 11.18}, {'date': '2019-02-07', 'tmin': 60, 'tmax': 79, 'prcp': 0.0, 'snow': 0.0, 'snwd': 0.0, 'awnd': 12.75}, {'date': '2021-12-31', 'tmin': 61, 'tmax': 74, 'prcp': 0.0, 'snow': 0.0, 'snwd': 0.0, 'awnd': 4.9}, {'date': '2021-12-29', 'tmin': 61, 'tmax': 73, 'prcp': 0.02, 'snow': 0.0, 'snwd': 0.0, 'awnd': 11.86}, {'date': '2022-01-01', 'tmin': 64, 'tmax': 79, 'prcp': 0.43, 'snow': 0.0, 'snwd': 0.0, 'awnd': 14.3}, {'date': '2018-02-22', 'tmin': 61, 'tmax': 78, 'prcp': 0.0, 'snow': 0.0, 'snwd': 0.0, 'awnd': 9.84}, {'date': '2018-02-25', 'tmin': 60, 'tmax': 73, 'prcp': 0.0, 'snow': 0.0, 'snwd': 0.0, 'awnd': 11.18}, {'date': '2017-02-12', 'tmin': 58, 'tmax': 83, 'prcp': 0.05, 'snow': 0.0, 'snwd': 0.0, 'awnd': 11.41}]\n"
     ]
    }
   ],
   "source": [
    "def average_temp(day):\n",
    "    return (day['tmin'] + day['tmax']) / 2\n",
    "\n",
    "# select the days from the winter months from all the years\n",
    "winters = [\"-12-\",\"-01-\",\"-02-\"]\n",
    "winter_months = [d for d in weatherdata if any([month in d['date'] for month in winters])]\n",
    "\n",
    "avg_temps = [average_temp(day) for day in winter_months]\n",
    "avg_mean = statistics.mean(avg_temps)\n",
    "\n",
    "outlier_temp = avg_mean + statistics.stdev(avg_temps) * 2\n",
    "outliers = [day for day in winter_months if average_temp(day) >= outlier_temp] \n",
    "print(avg_mean)\n",
    "print(len(outliers))\n",
    "print(outliers)"
   ]
  }
 ],
 "metadata": {
  "kernelspec": {
   "display_name": "Python 3.11.3 64-bit",
   "language": "python",
   "name": "python3"
  },
  "language_info": {
   "codemirror_mode": {
    "name": "ipython",
    "version": 3
   },
   "file_extension": ".py",
   "mimetype": "text/x-python",
   "name": "python",
   "nbconvert_exporter": "python",
   "pygments_lexer": "ipython3",
   "version": "3.11.3"
  },
  "orig_nbformat": 4,
  "vscode": {
   "interpreter": {
    "hash": "aee8b7b246df8f9039afb4144a1f6fd8d2ca17a180786b69acc140d282b71a49"
   }
  }
 },
 "nbformat": 4,
 "nbformat_minor": 2
}
