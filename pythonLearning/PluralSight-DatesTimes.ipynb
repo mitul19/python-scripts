{
 "cells": [
  {
   "cell_type": "markdown",
   "metadata": {},
   "source": [
    "# Working with Dates and Times in Python"
   ]
  },
  {
   "cell_type": "markdown",
   "metadata": {},
   "source": [
    "## The Basics"
   ]
  },
  {
   "cell_type": "code",
   "execution_count": 3,
   "metadata": {},
   "outputs": [],
   "source": [
    "# Modules time, datetime, calender\n",
    "# Time:  \n",
    "# Basic time and date functions, based on C standard\n",
    "# Date/Time: As float, Precision depends on clock\n",
    "# Multiple clocks -> System clock, Monotonic, Performance Counter, Process time. \n",
    "# Each clocks measures time and have different purpose/precision\n",
    "# clock generator  \n",
    "#   1. perf_counter \n",
    "#   2. monotonic  -> always goes forward even if system time has changed. used to measure how much time is elapsed.\n",
    "# RTC (real time clock) \n",
    "#   1.process_time\n",
    "#   2.clock - gets cpu clock, how much sec has the CPU worked for your program.\n",
    "#   3.time - current local time, Second since 01/01/1970 \n",
    "#   The function time.clock() has been removed, after having been deprecated since Python 3.3: use time.perf_counter() or time.process_time() instead, depending on your requirements\n",
    "\n",
    "# One min is not always 60 slice\n",
    "# One day is not always 24 hours\n",
    "# One year is not always 365 days\n",
    "# print(time.localtime())\n",
    "\n",
    "\n",
    "# time\n",
    "#   Basic time functionality \n",
    "#   Provides multiple clocks\n",
    "#   Based on C API\n",
    "# datetime\n",
    "#   Basic time functionality\n",
    "#   Only the “time” clock is available \n",
    "#   Object-oriented\n",
    "\n",
    "# Use time for\n",
    "#   Simple date/time operations \n",
    "#   Measuring performance \n",
    "#   Determining CPU usage \n",
    "#   Determining which event happened first - collecting stats.\n",
    "#   Porting C programs\n",
    "# Use datetime for\n",
    "#   Most date/time operations \n",
    "#   Measuring intervals \n",
    "#   Working with local time \n",
    "#   Business logic - processing data"
   ]
  },
  {
   "cell_type": "code",
   "execution_count": 24,
   "metadata": {},
   "outputs": [
    {
     "name": "stdout",
     "output_type": "stream",
     "text": [
      "currunt time:  Wed Jul 17 15:47:55 2024\n",
      "42 sec later time:  Wed Jul 17 15:48:37 2024\n",
      "Loading took 0.08215964199916925s\n",
      "Clock resolution: 1e-09s\n",
      "Loading took 0.08708261600986589s\n",
      "<class 'AssertionError'>\n",
      "process_time second used  0.1764909999999995\n",
      "program monotonic time:  0.23502911200921517\n",
      "time.struct_time(tm_year=2024, tm_mon=7, tm_mday=17, tm_hour=15, tm_min=47, tm_sec=55, tm_wday=2, tm_yday=199, tm_isdst=0)\n"
     ]
    }
   ],
   "source": [
    "# Demo\n",
    "# resolution is 10^-9 so we can trust first 9 digits after decimal point\n",
    "# Assert can be raised if performace is not optimal to our expectation.\n",
    "\n",
    "import csv\n",
    "import time\n",
    "\n",
    "class Airport:\n",
    "    \"\"\" Airport as represented in airport.dat \"\"\"\n",
    "    prop_names = ('id','name', 'city', 'country', 'iata', 'icao','lat', 'long', 'alt', 'utc_offset', 'dst_rule', 'tz', 'type', 'source')\n",
    "\n",
    "    def __init__(self, csv_entry) -> None:\n",
    "        \"\"\" csv reader to internal dict \"\"\"\n",
    "        assert len(csv_entry) == len(Airport.prop_names)\n",
    "        self.__dict__.update(dict(zip(Airport.prop_names, csv_entry)))\n",
    "    \n",
    "    def __str__(self) -> str:\n",
    "        return \"{0.iata} ({0.name})\".format(self)\n",
    "\n",
    "def load_airports(csv_file_name):\n",
    "    \"\"\" Load airports into a dictionary where keys are IATA codes\"\"\"\n",
    "    airports = {}\n",
    "    with open(csv_file_name, newline='') as data_file:\n",
    "        for entry in csv.reader(data_file):\n",
    "            a = Airport(csv_entry=entry)\n",
    "            airports[a.iata] = a\n",
    "    return airports\n",
    "\n",
    "cur_time = time.time()\n",
    "print(\"currunt time: \", time.ctime(cur_time))\n",
    "print(\"42 sec later time: \", time.ctime(cur_time + 42))\n",
    "\n",
    "start_mono = time.monotonic()\n",
    "start_clock = time.process_time() \n",
    "\n",
    "load_start = time.perf_counter()\n",
    "airports = load_airports('airports.dat')\n",
    "print(\"Loading took {0}s\".format(time.perf_counter() - load_start))\n",
    "print(\"Clock resolution: {0}s\".format(time.get_clock_info('perf_counter').resolution))\n",
    "\n",
    "def measure(f):\n",
    "    start = time.perf_counter()\n",
    "    f()\n",
    "    return time.perf_counter() - start\n",
    "\n",
    "\n",
    "print(\"Loading took {0}s\".format(measure(lambda: load_airports('airports.dat'))))\n",
    "\n",
    "try:\n",
    "    assert(measure(lambda: load_airports('airports.dat')) < 0.01)\n",
    "except AssertionError:\n",
    "    print(AssertionError)\n",
    "\n",
    "print(\"process_time second used \", time.process_time()-start_clock)\n",
    "\n",
    "print(\"program monotonic time: \", time.monotonic() - start_mono)\n",
    "\n",
    "print(time.localtime())"
   ]
  },
  {
   "cell_type": "code",
   "execution_count": 25,
   "metadata": {},
   "outputs": [
    {
     "name": "stdout",
     "output_type": "stream",
     "text": [
      "Flight AA123:\n",
      "    from        : ATL (Hartsfield Jackson Atlanta International Airport)\n",
      "    to          : SVO (Sheremetyevo International Airport)\n",
      "    departure   : 2025-01-01 10:10:00\n",
      "    arrival     : 2025-01-02 07:12:00\n",
      "\n",
      "    time to departure       : 167 days, 18:17:48.505392\n",
      "    check-in                : 2025-01-01 07:10:00\n",
      "\n"
     ]
    }
   ],
   "source": [
    "# Extention of demo to create flight schedule\n",
    "import csv\n",
    "import textwrap\n",
    "from datetime import datetime, timedelta\n",
    "\n",
    "class Airport:\n",
    "    \"\"\" Airport as represented in airport.dat \"\"\"\n",
    "    prop_names = ('id','name', 'city', 'country', 'iata', 'icao','lat', 'long', 'alt', 'utc_offset', 'dst_rule', 'tz', 'type', 'source')\n",
    "\n",
    "    def __init__(self, csv_entry) -> None:\n",
    "        \"\"\" csv reader to internal dict \"\"\"\n",
    "        assert len(csv_entry) == len(Airport.prop_names)\n",
    "        self.__dict__.update(dict(zip(Airport.prop_names, csv_entry)))\n",
    "    \n",
    "    def __str__(self) -> str:\n",
    "        return \"{0.iata} ({0.name})\".format(self)\n",
    "\n",
    "def load_airports(csv_file_name):\n",
    "    \"\"\" Load airports into a dictionary where keys are IATA codes\"\"\"\n",
    "    airports = {}\n",
    "    with open(csv_file_name, newline='') as data_file:\n",
    "        for entry in csv.reader(data_file):\n",
    "            a = Airport(csv_entry=entry)\n",
    "            airports[a.iata] = a\n",
    "    return airports\n",
    "\n",
    "class Flight:\n",
    "    def __init__(self, flight_id, origin, destination, departure, arrival):\n",
    "        self.id = flight_id\n",
    "        self.origin = origin\n",
    "        self.destination = destination\n",
    "        self.departure = departure\n",
    "        self.arrival = arrival\n",
    "\n",
    "    @property\n",
    "    def check_in(self):\n",
    "        return self.departure - timedelta(hours=3)\n",
    "\n",
    "    def time_to_departure(self):\n",
    "        return self.departure - datetime.now()\n",
    "\n",
    "    def __str__(self):\n",
    "        return textwrap.dedent('''\\\n",
    "        Flight {0.id}:\n",
    "            from        : {0.origin}\n",
    "            to          : {0.destination}\n",
    "            departure   : {0.departure}\n",
    "            arrival     : {0.arrival}\n",
    "\n",
    "            time to departure       : {ttd}\n",
    "            check-in                : {0.check_in}\n",
    "        '''.format(self, ttd = self.time_to_departure()))\n",
    "\n",
    "airports = load_airports('airports.dat')\n",
    "\n",
    "flights = [\n",
    "    Flight(flight_id='AA123',\n",
    "           origin=airports['ATL'],\n",
    "           destination=airports['SVO'],\n",
    "           departure=datetime(2025, 1, 1, 10, 10, 0),\n",
    "           arrival=datetime(2025, 1, 2, 7, 12, 0))\n",
    "]\n",
    "\n",
    "for f in flights:\n",
    "    print(f)"
   ]
  },
  {
   "cell_type": "markdown",
   "metadata": {},
   "source": [
    "## Date Time Manipulation strftime and strptime"
   ]
  },
  {
   "cell_type": "code",
   "execution_count": 10,
   "metadata": {},
   "outputs": [
    {
     "name": "stdout",
     "output_type": "stream",
     "text": [
      "11:49:07\n",
      "2024-07-17\n",
      "07/17/24\n",
      "199\n",
      "2023-01-01 00:00:00\n",
      "time data 'hello' does not match format '%Y'\n"
     ]
    }
   ],
   "source": [
    "\n",
    "from datetime import datetime\n",
    "\n",
    "now = datetime.now()\n",
    "print(now.strftime('%H:%M:%S'))\n",
    "print(now.strftime('%Y-%m-%d'))\n",
    "print(now.strftime('%m/%d/%y'))\n",
    "print(now.strftime('%j'))\n",
    "\n",
    "print(datetime.strptime('2023', '%Y'))\n",
    "try:\n",
    "    datetime.strptime('hello', '%Y')\n",
    "except  ValueError as e:\n",
    "    print(e)\n"
   ]
  },
  {
   "cell_type": "markdown",
   "metadata": {},
   "source": [
    "## Dateutil Parser"
   ]
  },
  {
   "cell_type": "code",
   "execution_count": 17,
   "metadata": {},
   "outputs": [
    {
     "name": "stdout",
     "output_type": "stream",
     "text": [
      "2017-07-17 00:00:00\n",
      "2022-01-03 18:54:00\n",
      "2017-03-17 18:00:00\n",
      "2003-01-02 00:00:00\n",
      "2001-02-03 00:00:00\n",
      "2001-03-02 00:00:00\n"
     ]
    }
   ],
   "source": [
    "from dateutil.parser import parse\n",
    "dt = parse('2017')\n",
    "print(dt)\n",
    "\n",
    "dt = parse('2022 Jan 3, 18:54')\n",
    "print(dt)\n",
    "\n",
    "# Parser can take almost any string when fuzzy is true.\n",
    "dt = parse('3 Janary 2017, 18:00 hello ', fuzzy=True)\n",
    "print(dt)\n",
    "\n",
    "# Default: Day/Month/Year\n",
    "dt = parse('01/02/03')\n",
    "print(dt)\n",
    "dt = parse('01/02/03', yearfirst=True) #Year/month/day\n",
    "print(dt)\n",
    "dt = parse('01/02/03', yearfirst=True, dayfirst=True) #Year/day/month\n",
    "print(dt)\n",
    "\n",
    "# Lesson:\n",
    "# Be Strict when formating\n",
    "# Be forgiving when parsing"
   ]
  },
  {
   "cell_type": "markdown",
   "metadata": {},
   "source": [
    "## Storing Date time in DB"
   ]
  },
  {
   "cell_type": "markdown",
   "metadata": {},
   "source": [
    "### SQLite"
   ]
  },
  {
   "cell_type": "code",
   "execution_count": 2,
   "metadata": {},
   "outputs": [
    {
     "name": "stdout",
     "output_type": "stream",
     "text": [
      "[('AA123', 'ATL', 'SVO', datetime.datetime(2018, 1, 1, 10, 30), datetime.datetime(2018, 1, 2, 7, 55)), ('AA123', 'ATL', 'SVO', datetime.datetime(2018, 1, 8, 10, 30), datetime.datetime(2018, 1, 9, 7, 55)), ('AA123', 'ATL', 'SVO', datetime.datetime(2018, 1, 15, 10, 30), datetime.datetime(2018, 1, 16, 7, 55)), ('AA123', 'ATL', 'SVO', datetime.datetime(2018, 1, 22, 10, 30), datetime.datetime(2018, 1, 23, 7, 55)), ('AA123', 'ATL', 'SVO', datetime.datetime(2018, 1, 29, 10, 30), datetime.datetime(2018, 1, 30, 7, 55)), ('AA123', 'ATL', 'SVO', datetime.datetime(2018, 2, 5, 10, 30), datetime.datetime(2018, 2, 6, 7, 55)), ('AA123', 'ATL', 'SVO', datetime.datetime(2018, 2, 12, 10, 30), datetime.datetime(2018, 2, 13, 7, 55)), ('AA123', 'ATL', 'SVO', datetime.datetime(2018, 2, 19, 10, 30), datetime.datetime(2018, 2, 20, 7, 55)), ('AA123', 'ATL', 'SVO', datetime.datetime(2018, 2, 26, 10, 30), datetime.datetime(2018, 2, 27, 7, 55)), ('AA123', 'ATL', 'SVO', datetime.datetime(2018, 3, 5, 10, 30), datetime.datetime(2018, 3, 6, 7, 55)), ('AA123', 'ATL', 'SVO', datetime.datetime(2018, 3, 12, 10, 30), datetime.datetime(2018, 3, 13, 6, 55)), ('AA123', 'ATL', 'SVO', datetime.datetime(2018, 3, 19, 10, 30), datetime.datetime(2018, 3, 20, 6, 55)), ('AA123', 'ATL', 'SVO', datetime.datetime(2019, 1, 1, 15, 0), datetime.datetime(2019, 1, 2, 12, 25)), ('AA123', 'ATL', 'SVO', datetime.datetime(2019, 1, 1, 18, 0), datetime.datetime(2019, 1, 2, 15, 25)), ('AA123', 'ATL', 'SVO', datetime.datetime(2019, 1, 1, 21, 0), datetime.datetime(2019, 1, 2, 18, 25)), ('AA123', 'ATL', 'SVO', datetime.datetime(2019, 2, 2, 10, 0), datetime.datetime(2019, 2, 3, 7, 25)), ('AA123', 'ATL', 'SVO', datetime.datetime(2019, 2, 2, 13, 0), datetime.datetime(2019, 2, 3, 10, 25)), ('AA123', 'ATL', 'SVO', datetime.datetime(2019, 2, 3, 10, 0), datetime.datetime(2019, 2, 4, 7, 25)), ('AA123', 'ATL', 'SVO', datetime.datetime(2019, 2, 3, 13, 0), datetime.datetime(2019, 2, 4, 10, 25)), ('AA123', 'ATL', 'SVO', datetime.datetime(2019, 2, 4, 10, 0), datetime.datetime(2019, 2, 5, 7, 25)), ('AA123', 'ATL', 'SVO', datetime.datetime(2019, 2, 4, 13, 0), datetime.datetime(2019, 2, 5, 10, 25))]\n",
      "Flight AA123:\n",
      "    from        : ATL (Hartsfield Jackson Atlanta International Airport)\n",
      "    to          : SVO (Sheremetyevo International Airport)\n",
      "    departure   : 2018-01-01 10:30:00-05:00 America/New_York\n",
      "    arrival     : 2018-01-02 07:55:00+03:00 Europe/Moscow\n",
      "    duration    : 13:25:00\n",
      "\n",
      "    time to departure       : -2389 days, 7:06:05.949442\n",
      "    check-in                : 2018-01-01 07:30:00-05:00\n",
      "\n",
      "Flight AA123:\n",
      "    from        : ATL (Hartsfield Jackson Atlanta International Airport)\n",
      "    to          : SVO (Sheremetyevo International Airport)\n",
      "    departure   : 2018-01-08 10:30:00-05:00 America/New_York\n",
      "    arrival     : 2018-01-09 07:55:00+03:00 Europe/Moscow\n",
      "    duration    : 13:25:00\n",
      "\n",
      "    time to departure       : -2382 days, 7:06:05.949289\n",
      "    check-in                : 2018-01-08 07:30:00-05:00\n",
      "\n"
     ]
    }
   ],
   "source": [
    "# SQLite:\n",
    "# Stores date/time as text\n",
    "# provides some datetime functions\n",
    "# python API supports datetime\n",
    "# TEXT(e.g '2018-01-01 10:30:00')\n",
    "# INTEGER for unix Time, rarely used as REAL\n",
    "#\n",
    "#                             With PARSE_DECLTYPE | Without\n",
    "#              Can store datetime values directly | Stores values as strings\n",
    "#    SELECT query will throw when data is invalid | Query will always succeed\n",
    "#              When we are sure about data format | use otherwise\n",
    "from flight_duration import Flight,airports\n",
    "from recurring_flights import flights\n",
    "from datetime import datetime\n",
    "import sqlite3\n",
    "\n",
    "def insert_flight(cur, flight):\n",
    "    sql = 'INSERT INTO flight VALUES(?,?,?,?,?)'\n",
    "    dep_naive = datetime.combine(flight.departure.date(), flight.departure.time())\n",
    "    arr_naive = datetime.combine(flight.arrival.date(), flight.arrival.time())\n",
    "    cur.execute(sql, (flight.id, flight.origin.iata, flight.destination.iata, dep_naive, arr_naive))\n",
    "\n",
    "conn = sqlite3.connect(':memory:', detect_types=sqlite3.PARSE_DECLTYPES)\n",
    "cur = conn.cursor()\n",
    "\n",
    "cur.execute('CREATE TABLE flight('\n",
    "            'flight_id TEXT, '\n",
    "            'origin TEXT,'\n",
    "            'destination TEXT,'\n",
    "            'departure TIMESTAMP,'\n",
    "            'arrival TIMESTAMP)')\n",
    "\n",
    "for f in flights:\n",
    "    insert_flight(cur, f)\n",
    "\n",
    "data = cur.execute('SELECT * FROM flight').fetchall()\n",
    "print(data)\n",
    "\n",
    "\n",
    "for row in data[:2]:\n",
    "    print(Flight(row[0], airports[row[1]], airports[row[2]], row[3], row[4]))"
   ]
  },
  {
   "cell_type": "markdown",
   "metadata": {},
   "source": [
    "### PostgreSQL "
   ]
  },
  {
   "cell_type": "code",
   "execution_count": 40,
   "metadata": {},
   "outputs": [
    {
     "name": "stdout",
     "output_type": "stream",
     "text": [
      "(datetime.datetime(1971, 10, 10, 22, 30, tzinfo=datetime.timezone(datetime.timedelta(seconds=19800))),)\n",
      "(datetime.datetime(1971, 10, 10, 22, 30, tzinfo=datetime.timezone(datetime.timedelta(seconds=19800))),)\n",
      "(datetime.datetime(1971, 10, 11, 22, 30, tzinfo=datetime.timezone(datetime.timedelta(seconds=19800))),)\n"
     ]
    }
   ],
   "source": [
    "# Datetime  | PostgreSQL\n",
    "# datetime  | timestamp[tz]\n",
    "# time      | time[tz]\n",
    "# date      | date\n",
    "# timedelta | interval\n",
    "\n",
    "import datetime\n",
    "import psycopg2\n",
    "from psycopg2.tz import FixedOffsetTimezone\n",
    "\n",
    "conn = psycopg2.connect(database = \"postgres\", \n",
    "                        user = \"postgres\", \n",
    "                        host= 'localhost',\n",
    "                        password = \"postgres\",\n",
    "                        port = 5432)\n",
    "curs = conn.cursor()\n",
    "\n",
    "curs.execute(\"CREATE TABLE IF NOT EXISTS test_tz (t TIMESTAMP with time zone)\")\n",
    "conn.commit()\n",
    "\n",
    "tz = FixedOffsetTimezone(+5*60+30, \"IST\")\n",
    "d = datetime.datetime(1971, 10, 11, 22, 30, 0, tzinfo=tz)\n",
    "# print(f\"%s\",(d))\n",
    "curs.execute(\"INSERT INTO test_tz(t) VALUES (%s)\", (d,))\n",
    "curs.execute(\"SELECT * FROM test_tz LIMIT 5\")\n",
    "rows = curs.fetchall()\n",
    "conn.commit()\n",
    "conn.close()\n",
    "for row in rows:\n",
    "    print(row)"
   ]
  },
  {
   "cell_type": "markdown",
   "metadata": {},
   "source": [
    "### Mongo"
   ]
  },
  {
   "cell_type": "code",
   "execution_count": null,
   "metadata": {},
   "outputs": [],
   "source": [
    "# Mongo\n",
    "# Works directly with datetime\n",
    "# Stores UTC by default\n",
    "# Supports time zones\n",
    "# pyMongo"
   ]
  }
 ],
 "metadata": {
  "kernelspec": {
   "display_name": "Python 3.11.3 64-bit",
   "language": "python",
   "name": "python3"
  },
  "language_info": {
   "codemirror_mode": {
    "name": "ipython",
    "version": 3
   },
   "file_extension": ".py",
   "mimetype": "text/x-python",
   "name": "python",
   "nbconvert_exporter": "python",
   "pygments_lexer": "ipython3",
   "version": "3.11.3"
  },
  "orig_nbformat": 4,
  "vscode": {
   "interpreter": {
    "hash": "aee8b7b246df8f9039afb4144a1f6fd8d2ca17a180786b69acc140d282b71a49"
   }
  }
 },
 "nbformat": 4,
 "nbformat_minor": 2
}
