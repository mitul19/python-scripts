{
 "cells": [
  {
   "cell_type": "code",
   "execution_count": 4,
   "metadata": {},
   "outputs": [
    {
     "name": "stdout",
     "output_type": "stream",
     "text": [
      "201.0\n",
      "201\n"
     ]
    }
   ],
   "source": [
    "#Saving Numbers (integer) to variable. Python will infer type int or float as per input. we can convert\n",
    "len = 10\n",
    "width = 20.1\n",
    "area = len * width\n",
    "print(area)\n",
    "print(int(area))\n"
   ]
  },
  {
   "cell_type": "code",
   "execution_count": 3,
   "metadata": {},
   "outputs": [
    {
     "name": "stdout",
     "output_type": "stream",
     "text": [
      "Mitul Patel\n",
      "Mitul's Store here\n",
      "Mitul Patel Mitul's Store here\n",
      "hello\n"
     ]
    }
   ],
   "source": [
    "#String work\n",
    "name = 'Mitul Patel'\n",
    "store = \"Mitul's Store here\" #as we need single quote we used double\n",
    "print(name)\n",
    "print(store)\n",
    "print(name + \" \" +  store)\n",
    "\n",
    "# Input testing\n",
    "# my_name = input(\"Whats your name ? \")\n",
    "# print(my_name)"
   ]
  },
  {
   "cell_type": "code",
   "execution_count": 9,
   "metadata": {},
   "outputs": [
    {
     "name": "stdout",
     "output_type": "stream",
     "text": [
      "You are 7.8 decade old.\n",
      "which is 7 decade and 8 year old.\n"
     ]
    }
   ],
   "source": [
    "#Age calculator\n",
    "\n",
    "age = int(input(\"How old are you?\\n\"))\n",
    "decade = age/10 # Division )float\n",
    "dec = age // 10 # To get Division floor \n",
    "yr = age % 10  #To get remainder\n",
    "print(\"You are \" + str(decade) + \" decade old.\\nwhich is \" + str(dec) + \" decade and \" + str(yr) + \" year old.\")\n"
   ]
  },
  {
   "cell_type": "code",
   "execution_count": 12,
   "metadata": {},
   "outputs": [
    {
     "name": "stdout",
     "output_type": "stream",
     "text": [
      "Tie\n",
      "computer choice was rock and you selected rock.\n"
     ]
    }
   ],
   "source": [
    "#Conditionals\n",
    "import random\n",
    "computer_choice = random.choice(['rock', 'paper', 'scissors'])\n",
    "user_choice = input(\"Do you want rock, paper or scissors?\")\n",
    "if computer_choice == user_choice:\n",
    "    print('Tie')\n",
    "elif user_choice == 'rock' and computer_choice == 'scissors':\n",
    "    print('Win')\n",
    "elif user_choice == 'paper' and computer_choice == 'rock':\n",
    "    print('Win')\n",
    "elif user_choice == 'scissors' and computer_choice == 'paper':\n",
    "    print('Win')\n",
    "else:\n",
    "    print('You loose, computer wins:)')\n",
    "print(\"computer choice was \" + computer_choice + \" and you selected \" + user_choice + \".\")"
   ]
  },
  {
   "cell_type": "markdown",
   "metadata": {},
   "source": [
    "List is python container to store anything which user want.\n",
    "Method is called on object i.e append method is called on list object to append item."
   ]
  },
  {
   "cell_type": "code",
   "execution_count": 27,
   "metadata": {},
   "outputs": [
    {
     "name": "stdout",
     "output_type": "stream",
     "text": [
      "You spent $40.5\n",
      "You spent $40.5\n"
     ]
    }
   ],
   "source": [
    "import math\n",
    "expense = [10.5, 8, 5, 10, 5, 2]\n",
    "sum = 0\n",
    "for item in expense:\n",
    "    sum+=item\n",
    "print('You spent $', sum, sep=\"\")\n",
    "total = math.fsum(expense)  #sum on int list can be used but on float its says float not callable.\n",
    "print('You spent $', total, sep=\"\")\n"
   ]
  },
  {
   "cell_type": "code",
   "execution_count": 34,
   "metadata": {},
   "outputs": [
    {
     "name": "stdout",
     "output_type": "stream",
     "text": [
      "Paid 1000.0 of which 8.33 was interest Now I owe 4008.33\n",
      "Paid 1000.0 of which 6.68 was interest Now I owe 3015.01\n",
      "Paid 1000.0 of which 5.03 was interest Now I owe 2020.04\n",
      "Paid 1000.0 of which 3.37 was interest Now I owe 1023.41\n",
      "The last payment is 25.111319629693753\n",
      "You paid off loan in 5 months\n"
     ]
    }
   ],
   "source": [
    "# Get details of loan\n",
    "money_owed = float(input('How much money do you owe, in dollars?\\n')) #50,000\n",
    "apr = float(input('what is annual percentage rate of loan?\\n')) # 3%\n",
    "payment = float(input('what is your monthly payment?\\n')) # $1,000\n",
    "months = int(input('How many months do you wants to see results for?\\n')) # 24\n",
    "\n",
    "monthly_rate = apr/100/12\n",
    "\n",
    "for mn in range(months):\n",
    "    interest_paid = money_owed*monthly_rate\n",
    "    money_owed += interest_paid\n",
    "    money_owed -= payment\n",
    "    if(money_owed - payment < 0):\n",
    "        print('The last payment is', money_owed)\n",
    "        print('You paid off loan in', mn+1, 'months')\n",
    "        break\n",
    "    print('Paid', payment, 'of which', round(interest_paid,2), 'was interest', end=' ')\n",
    "    print('Now I owe' , round(money_owed,2))"
   ]
  },
  {
   "cell_type": "markdown",
   "metadata": {},
   "source": [
    "Dictionary -> Key : Value pair \n",
    "on Dict you can use items() method to get key, value both it will default to key if you iterate. "
   ]
  },
  {
   "cell_type": "code",
   "execution_count": 36,
   "metadata": {},
   "outputs": [
    {
     "name": "stdout",
     "output_type": "stream",
     "text": [
      "We're showing following movies:\n",
      "The Grinch\n",
      "Rudolph\n",
      "Frosty the snowman\n",
      "Christmas Vacation\n",
      "Rudolph is at 1:00pm\n"
     ]
    }
   ],
   "source": [
    "current_movies ={   'The Grinch':'11:00am',\n",
    "                    'Rudolph':'1:00pm',\n",
    "                    'Frosty the snowman':'3:30pm',\n",
    "                    'Christmas Vacation':'5:00pm'}\n",
    "\n",
    "print(\"We're showing following movies:\")\n",
    "for key in current_movies:\n",
    "    print(key)\n",
    "\n",
    "movie = input('What movie would you like the showtime for ?\\n')\n",
    "\n",
    "showtime = current_movies.get(movie)\n",
    "if showtime == None:\n",
    "    print(\"Requested movie is not playing\")\n",
    "else:\n",
    "    print(movie, \"is at\", current_movies[movie])"
   ]
  },
  {
   "cell_type": "code",
   "execution_count": 39,
   "metadata": {},
   "outputs": [
    {
     "name": "stdout",
     "output_type": "stream",
     "text": [
      "Students Emails:\n",
      "mitul@xyz.co.in\n",
      "atul@xyz.co.in\n",
      "kitul@xyz.co.in\n",
      "nitul@xyz.co.in\n"
     ]
    }
   ],
   "source": [
    "contacts = {\n",
    "    'number': 4,\n",
    "    'students':\n",
    "        [\n",
    "            {'name':'Mitul','email':'mitul@xyz.co.in'},\n",
    "            {'name':'Atul','email':'atul@xyz.co.in'},\n",
    "            {'name':'kitul','email':'kitul@xyz.co.in'},\n",
    "            {'name':'nitul','email':'nitul@xyz.co.in'}\n",
    "        ]\n",
    "}\n",
    "print('Students Emails:')\n",
    "for student in contacts['students']:\n",
    "    print(student['email'])"
   ]
  },
  {
   "cell_type": "code",
   "execution_count": 42,
   "metadata": {},
   "outputs": [
    {
     "name": "stdout",
     "output_type": "stream",
     "text": [
      "Jasmin Moghbeli\n",
      "Andreas Mogensen\n",
      "Satoshi Furukawa\n",
      "Konstantin Borisov\n",
      "Oleg Kononenko\n",
      "Nikolai Chub\n",
      "Loral O'Hara\n"
     ]
    }
   ],
   "source": [
    "import requests\n",
    "response = requests.get('http://api.open-notify.org/astros.json')\n",
    "for person in response.json()['people']:\n",
    "    print(person['name'])"
   ]
  },
  {
   "cell_type": "code",
   "execution_count": 52,
   "metadata": {},
   "outputs": [
    {
     "name": "stdout",
     "output_type": "stream",
     "text": [
      "At 2023-11-20 14:30 Weather for bangalore is Partly cloudy and temp 28.0 celcius\n"
     ]
    }
   ],
   "source": [
    "import apifile as api\n",
    "CITY = 'bangalore'\n",
    "url = 'https://api.weatherapi.com/v1/current.json?key=' + api.weather_api + '&q=' + CITY \n",
    "#print(url)\n",
    "response = requests.get(url)\n",
    "weather_json = response.json()\n",
    "temp = weather_json.get('current').get('temp_c')\n",
    "cond = weather_json.get('current').get('condition').get('text')\n",
    "time = weather_json.get('current').get('last_updated')\n",
    "print('At', time, 'Weather for', CITY, 'is', cond, 'and temp', temp, 'celcius' )"
   ]
  },
  {
   "cell_type": "markdown",
   "metadata": {},
   "source": [
    "FUNCTIONS\n",
    "\n",
    "Variable does have local scope \n",
    "But Varible inside main program have global scope but it will be messy to move it Function.\n",
    "Function helps in using chunk of code over and over.it helps in grouping code into logical units."
   ]
  },
  {
   "cell_type": "code",
   "execution_count": 56,
   "metadata": {},
   "outputs": [
    {
     "name": "stdout",
     "output_type": "stream",
     "text": [
      "dog rolled 5 cat rolled 7\n",
      "cat wins\n"
     ]
    }
   ],
   "source": [
    "import random\n",
    "\n",
    "def roll_dice():\n",
    "    dice_total = random.randint(1,6) + random.randint(1,6)\n",
    "    return dice_total\n",
    "\n",
    "def main():\n",
    "    player1 = input(\"Enter player 1's name:\")\n",
    "    player2 = input(\"Enter player 2's name:\")\n",
    "\n",
    "    roll1 = roll_dice()\n",
    "    roll2 = roll_dice()\n",
    "    print(player1, 'rolled', roll1, player2, 'rolled', roll2)\n",
    "    if roll1 > roll2:\n",
    "        print(player1, \"wins\")\n",
    "    elif roll1 < roll2:\n",
    "        print(player2, \"wins\")\n",
    "    else:\n",
    "        print(\"its a tie\")\n",
    "\n",
    "main()"
   ]
  },
  {
   "cell_type": "markdown",
   "metadata": {},
   "source": [
    " Object Oriented Programming\n",
    "\n",
    " As programs get large and complicated, one person can't remember every details.Organizing pieces of the program into objects makes it easier to understand and use. Object have state and behaviors\n",
    " Instances on Class is called object.\n",
    "\n",
    " Class have has-a and is-a kind relation. \n",
    "\n",
    " Company has a Employee (has-a kind)\n",
    " Inheritance is is-a kind i.e robot dog class is a robot and robot cat is a robot too.\n",
    " Method overriding happens if parent and child class have same method. child class executes but you can call parent call with super() "
   ]
  },
  {
   "cell_type": "code",
   "execution_count": 63,
   "metadata": {},
   "outputs": [
    {
     "name": "stdout",
     "output_type": "stream",
     "text": [
      "Current Employees:\n",
      "Mitul Patel\n",
      "Ketul Patel\n",
      "Atul Patel\n",
      "------------------\n",
      "Paying Employees:\n",
      "Paycheck for: Mitul Patel\n",
      "Amount: $961.54\n",
      "------------------\n",
      "Paycheck for: Ketul Patel\n",
      "Amount: $769.23\n",
      "------------------\n",
      "Paycheck for: Atul Patel\n",
      "Amount: $576.92\n",
      "------------------\n"
     ]
    }
   ],
   "source": [
    "class Employee:\n",
    "    def __init__(self, fname, lname, salary):\n",
    "        self.fname = fname\n",
    "        self.lname = lname\n",
    "        self.salary = salary\n",
    "    def cacl_paycheck(self):\n",
    "        return round(self.salary/52, 2)\n",
    "\n",
    "class Company:\n",
    "    def __init__(self):\n",
    "        self.employees = []\n",
    "    def add_employee(self, new_employee):\n",
    "        self.employees.append(new_employee)\n",
    "    def display_employees(self):\n",
    "        print('Current Employees:')\n",
    "        for i in self.employees:\n",
    "            print(i.fname, i.lname)\n",
    "        print('------------------')\n",
    "    def pay_employees(self):\n",
    "        print('Paying Employees:')\n",
    "        for i in self.employees:\n",
    "            print('Paycheck for:', i.fname, i.lname)\n",
    "            print('Amount: $', i.cacl_paycheck(), sep=\"\")\n",
    "            print('------------------')\n",
    "\n",
    "\n",
    "def main():\n",
    "    abc = Company()\n",
    "    emp1 = Employee('Mitul','Patel',50_000)\n",
    "    abc.add_employee(emp1)\n",
    "    emp2 = Employee('Ketul','Patel',40_000)\n",
    "    abc.add_employee(emp2)\n",
    "    emp3 = Employee('Atul','Patel',30_000)\n",
    "    abc.add_employee(emp3)\n",
    "\n",
    "    abc.display_employees()\n",
    "    abc.pay_employees()\n",
    "main()"
   ]
  },
  {
   "cell_type": "code",
   "execution_count": 4,
   "metadata": {},
   "outputs": [
    {
     "name": "stdout",
     "output_type": "stream",
     "text": [
      "My position is [0, 0]\n",
      "My new position: [10, 0]\n",
      "Wooof woof!!\n",
      "I love bacon\n",
      "\n",
      "I love candy and\n",
      "I'm hungry\n"
     ]
    }
   ],
   "source": [
    "class Robot:\n",
    "    def __init__(self, name) -> None:\n",
    "        self.name = name\n",
    "        self.position = [0,0]\n",
    "        print('My position is', self.position)\n",
    "    def walk(self, x):\n",
    "        self.position[0] = self.position[0] + x\n",
    "        print('My new position:', self.position)\n",
    "    def eat(self):\n",
    "        print(\"I'm hungry\")\n",
    "\n",
    "\n",
    "class Robot_Dog(Robot):\n",
    "    def make_noise(self):\n",
    "        print(\"Wooof woof!!\")\n",
    "    def eat(self):\n",
    "        print(\"I love bacon\")\n",
    "    def eat_super(self):\n",
    "        print(\"I love candy and\")\n",
    "        super().eat()\n",
    "\n",
    "my_robo_dog = Robot_Dog('Moti')\n",
    "my_robo_dog.walk(10)\n",
    "my_robo_dog.make_noise()\n",
    "my_robo_dog.eat()\n",
    "print()\n",
    "my_robo_dog.eat_super()"
   ]
  },
  {
   "cell_type": "code",
   "execution_count": 7,
   "metadata": {},
   "outputs": [
    {
     "name": "stdout",
     "output_type": "stream",
     "text": [
      "Current Employees:\n",
      "Mitul Patel\n",
      "Ketul Patel\n",
      "Atul Patel\n",
      "Nitul Patel\n",
      "------------------\n",
      "Paying Employees:\n",
      "Paycheck for: Mitul Patel\n",
      "Amount: $1346.15\n",
      "------------------\n",
      "Paycheck for: Ketul Patel\n",
      "Amount: $1250\n",
      "------------------\n",
      "Paycheck for: Atul Patel\n",
      "Amount: $1726.92\n",
      "------------------\n",
      "Paycheck for: Nitul Patel\n",
      "Amount: $1350\n",
      "------------------\n"
     ]
    }
   ],
   "source": [
    "#Inheritence Example in Employee\n",
    "\n",
    "class Employee: \n",
    "    def __init__(self, fname, lname) -> None:\n",
    "        self.fname = fname\n",
    "        self.lname =lname\n",
    "\n",
    "class SalaryEmployee(Employee):\n",
    "    def __init__(self, fname, lname, salary):\n",
    "        super().__init__(fname, lname)\n",
    "        self.salary = salary\n",
    "    def cacl_paycheck(self):\n",
    "        return round(self.salary/52, 2)\n",
    "\n",
    "class HourlyEmployee(Employee):\n",
    "    def __init__(self, fname, lname, weekly_hours, hourly_rate):\n",
    "        super().__init__(fname, lname)\n",
    "        self.weekly_hours = weekly_hours\n",
    "        self.hourly_rate = hourly_rate\n",
    "    def cacl_paycheck(self):\n",
    "        return round(self.weekly_hours*self.hourly_rate, 2)\n",
    "\n",
    "class CommissionEmployee(SalaryEmployee):\n",
    "    def __init__(self, fname, lname, salary, sales_num, com_rate):\n",
    "        super().__init__(fname, lname, salary)\n",
    "        self.sales_num = sales_num\n",
    "        self.com_rate = com_rate\n",
    "    def cacl_paycheck(self):\n",
    "        regular_salary = super().cacl_paycheck()\n",
    "        total_comm = self.sales_num*self.com_rate\n",
    "        return round(total_comm, 2) + regular_salary\n",
    "\n",
    "class Company:\n",
    "    def __init__(self):\n",
    "        self.employees = []\n",
    "    def add_employee(self, new_employee):\n",
    "        self.employees.append(new_employee)\n",
    "    def display_employees(self):\n",
    "        print('Current Employees:')\n",
    "        for i in self.employees:\n",
    "            print(i.fname, i.lname)\n",
    "        print('------------------')\n",
    "    def pay_employees(self):\n",
    "        print('Paying Employees:')\n",
    "        for i in self.employees:\n",
    "            print('Paycheck for:', i.fname, i.lname)\n",
    "            print('Amount: $', i.cacl_paycheck(), sep=\"\")\n",
    "            print('------------------')\n",
    "\n",
    "def main():\n",
    "    abc = Company()\n",
    "    emp1 = SalaryEmployee('Mitul','Patel',70_000)\n",
    "    abc.add_employee(emp1)\n",
    "    emp2 = HourlyEmployee('Ketul','Patel',25,50)\n",
    "    abc.add_employee(emp2)\n",
    "    emp3 = CommissionEmployee('Atul','Patel',30_000, 5, 230)\n",
    "    abc.add_employee(emp3)\n",
    "    emp4 = HourlyEmployee('Nitul','Patel',30,45)\n",
    "    abc.add_employee(emp4)\n",
    "    abc.display_employees()\n",
    "    abc.pay_employees()\n",
    "\n",
    "main()"
   ]
  },
  {
   "cell_type": "markdown",
   "metadata": {},
   "source": [
    "Exceptions \n",
    "\n",
    "Use of Try Except And Finally when we found Error. So we want to Catch error so that Program keeps running Finally runs to close object or clean up resource.\n",
    "We can use relative path for navigation for files starting from HOME Dir. use of WITH key word so that file closes once we are done with it."
   ]
  },
  {
   "cell_type": "code",
   "execution_count": 10,
   "metadata": {},
   "outputs": [
    {
     "name": "stdout",
     "output_type": "stream",
     "text": [
      "ML - Machine Learning\n",
      "\n"
     ]
    }
   ],
   "source": [
    "def find_acronym(look_up):\n",
    "    found = False\n",
    "    with open(\"acronym.txt\") as file:\n",
    "        for l in file:\n",
    "            if look_up in l:\n",
    "                print(l)\n",
    "                found = True\n",
    "                break\n",
    "\n",
    "    if not found:\n",
    "        print('The acronym does not exist')\n",
    "        raise NameError\n",
    "\n",
    "\n",
    "def add_acronym(look_up):\n",
    "    definition = input('What is the definition?')\n",
    "    with open(\"acronym.txt\", 'a') as file:\n",
    "        file.write(look_up + ' - ' + definition + '\\n')\n",
    "\n",
    "\n",
    "def main():\n",
    "    look_up = input(\"What Software acronym would you like to look up?\\n\")\n",
    "    try:\n",
    "        find_acronym(look_up)\n",
    "    except NameError:\n",
    "        ans = input('Do you want to add it (y/n)?')\n",
    "        if ans in ('Y', 'y'):\n",
    "            add_acronym(look_up)\n",
    "    # finally:\n",
    "    #     print(' ')\n",
    "\n",
    "\n",
    "main()"
   ]
  },
  {
   "cell_type": "markdown",
   "metadata": {},
   "source": [
    "PEP8 - Style format guide\n",
    "\n",
    "tools: pylint, black, flake8 \n",
    "\n",
    "Use VS CODE setting of linting to black so it will format code.\n",
    "\n",
    "sphinx used DocString to generate documentation based on spacial text called restructuredText\n",
    "\n",
    "TypeHints - Static Type hints vs. Dynamic Typing.  Python doesnt have Type Declaration so it can give run time exceptions. \n",
    "\n",
    "Classes are Types i.e built in classes like int, float, str, bool, list, tuple, dict. classer that you wrote and classes you imports are types too. but not all types are classes i.e Union (Union[int, str])\n",
    "\n",
    "https://mypy.readthedocs.io/en/stable/cheat_sheet_py3.html"
   ]
  },
  {
   "cell_type": "code",
   "execution_count": 3,
   "metadata": {},
   "outputs": [
    {
     "name": "stdout",
     "output_type": "stream",
     "text": [
      "1.67\n"
     ]
    },
    {
     "ename": "TypeError",
     "evalue": "unsupported operand type(s) for +: 'int' and 'str'",
     "output_type": "error",
     "traceback": [
      "\u001b[0;31m---------------------------------------------------------------------------\u001b[0m",
      "\u001b[0;31mTypeError\u001b[0m                                 Traceback (most recent call last)",
      "Cell \u001b[0;32mIn[3], line 6\u001b[0m\n\u001b[1;32m      3\u001b[0m     \u001b[38;5;28;01mreturn\u001b[39;00m \u001b[38;5;28mround\u001b[39m((a \u001b[38;5;241m+\u001b[39m b \u001b[38;5;241m+\u001b[39m c)\u001b[38;5;241m/\u001b[39m\u001b[38;5;241m3\u001b[39m, \u001b[38;5;241m2\u001b[39m)\n\u001b[1;32m      5\u001b[0m \u001b[38;5;28mprint\u001b[39m(avg1(\u001b[38;5;241m1\u001b[39m,\u001b[38;5;241m1\u001b[39m,\u001b[38;5;241m3\u001b[39m))\n\u001b[0;32m----> 6\u001b[0m \u001b[38;5;28mprint\u001b[39m(\u001b[43mavg1\u001b[49m\u001b[43m(\u001b[49m\u001b[38;5;241;43m1\u001b[39;49m\u001b[43m,\u001b[49m\u001b[38;5;124;43m'\u001b[39;49m\u001b[38;5;124;43m2\u001b[39;49m\u001b[38;5;124;43m'\u001b[39;49m\u001b[43m,\u001b[49m\u001b[38;5;241;43m3\u001b[39;49m\u001b[43m)\u001b[49m)\n",
      "Cell \u001b[0;32mIn[3], line 3\u001b[0m, in \u001b[0;36mavg1\u001b[0;34m(a, b, c)\u001b[0m\n\u001b[1;32m      2\u001b[0m \u001b[38;5;28;01mdef\u001b[39;00m \u001b[38;5;21mavg1\u001b[39m(a: \u001b[38;5;28mint\u001b[39m, b:\u001b[38;5;28mint\u001b[39m, c:\u001b[38;5;28mint\u001b[39m) \u001b[38;5;241m-\u001b[39m\u001b[38;5;241m>\u001b[39m \u001b[38;5;28mfloat\u001b[39m:\n\u001b[0;32m----> 3\u001b[0m     \u001b[38;5;28;01mreturn\u001b[39;00m \u001b[38;5;28mround\u001b[39m((\u001b[43ma\u001b[49m\u001b[43m \u001b[49m\u001b[38;5;241;43m+\u001b[39;49m\u001b[43m \u001b[49m\u001b[43mb\u001b[49m \u001b[38;5;241m+\u001b[39m c)\u001b[38;5;241m/\u001b[39m\u001b[38;5;241m3\u001b[39m, \u001b[38;5;241m2\u001b[39m)\n",
      "\u001b[0;31mTypeError\u001b[0m: unsupported operand type(s) for +: 'int' and 'str'"
     ]
    }
   ],
   "source": [
    "#Type Hint Example to understand what type of variable shoud be used. but it doesn't enforce its utpo callee to use those.\n",
    "def avg1(a: int, b:int, c:int) -> float:\n",
    "    return round((a + b + c)/3, 2)\n",
    "\n",
    "print(avg1(1,1,3))\n",
    "print(avg1(1,'2',3))"
   ]
  },
  {
   "cell_type": "code",
   "execution_count": 6,
   "metadata": {},
   "outputs": [
    {
     "name": "stdout",
     "output_type": "stream",
     "text": [
      "6.0\n"
     ]
    }
   ],
   "source": [
    "#Example for Types.\n",
    "\n",
    "from typing import Any\n",
    "\n",
    "def max_avg(d: dict[Any, list[float]]) -> float:\n",
    "    return max(sum(lst)/len(lst) for lst in d.values())\n",
    "\n",
    "print(max_avg({\n",
    "    'a':[1,2,3],\n",
    "    20:[5.0, 6.0,7.0],\n",
    "    None:['a','b']  # if we remove str list it will work.\n",
    "}))"
   ]
  },
  {
   "cell_type": "code",
   "execution_count": 8,
   "metadata": {},
   "outputs": [
    {
     "name": "stdout",
     "output_type": "stream",
     "text": [
      "[0.0, 1.0, 1.4142135623730951, 1.7320508075688772, 2.0]\n",
      "[0.0, 1.0, 1.4142135623730951, 1.7320508075688772, 2.0]\n"
     ]
    }
   ],
   "source": [
    "def roots_no_duck_typing(l: list[int]) -> list[float]:\n",
    "    return [x**0.5 for x in l]\n",
    "\n",
    "# Duck Typing.\n",
    "# We care about behavior of list so that it allows iteration.\n",
    "# in you support __len__ then int, __iter__ then Iterator, and __contains__ then bool  i.e size, container and collection.\n",
    "\n",
    "from typing import Iterable\n",
    "def roots(l: Iterable[int]) -> list[float]:\n",
    "    return [x**0.5 for x in l]\n",
    "\n",
    "print(roots_no_duck_typing(range(5)))\n",
    "print(roots(range(5)))"
   ]
  }
 ],
 "metadata": {
  "kernelspec": {
   "display_name": "Python 3.11.3 64-bit",
   "language": "python",
   "name": "python3"
  },
  "language_info": {
   "codemirror_mode": {
    "name": "ipython",
    "version": 3
   },
   "file_extension": ".py",
   "mimetype": "text/x-python",
   "name": "python",
   "nbconvert_exporter": "python",
   "pygments_lexer": "ipython3",
   "version": "3.11.3"
  },
  "orig_nbformat": 4,
  "vscode": {
   "interpreter": {
    "hash": "aee8b7b246df8f9039afb4144a1f6fd8d2ca17a180786b69acc140d282b71a49"
   }
  }
 },
 "nbformat": 4,
 "nbformat_minor": 2
}
