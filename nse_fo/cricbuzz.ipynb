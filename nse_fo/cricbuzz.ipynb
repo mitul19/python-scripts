{
 "cells": [
  {
   "cell_type": "code",
   "execution_count": 1,
   "metadata": {},
   "outputs": [],
   "source": [
    "import requests\n",
    "from bs4 import BeautifulSoup\n",
    "import re"
   ]
  },
  {
   "cell_type": "code",
   "execution_count": 13,
   "metadata": {},
   "outputs": [],
   "source": [
    "matches_response = requests.get(\"https://www.cricbuzz.com/cricket-series/7607/indian-premier-league-2024/matches\")"
   ]
  },
  {
   "cell_type": "code",
   "execution_count": 16,
   "metadata": {},
   "outputs": [],
   "source": [
    "matches_parsed_html = BeautifulSoup(matches_response.content, features=\"lxml\")\n",
    "with open (\"match.txt\", \"w\") as fp:\n",
    "    for item in matches_parsed_html.find_all('div', attrs={'class':'cb-col-60 cb-col cb-srs-mtchs-tm'}):\n",
    "        fp.write(str(item) + \"\\n\")"
   ]
  },
  {
   "cell_type": "code",
   "execution_count": 2,
   "metadata": {},
   "outputs": [
    {
     "data": {
      "text/plain": [
       "['https://www.cricbuzz.com/live-cricket-scorecard/91479/kkr-vs-rcb-36th-match-indian-premier-league-2024',\n",
       " 'https://www.cricbuzz.com/live-cricket-scorecard/91488/pbks-vs-gt-37th-match-indian-premier-league-2024']"
      ]
     },
     "execution_count": 2,
     "metadata": {},
     "output_type": "execute_result"
    }
   ],
   "source": [
    "urls = [line.strip() for line in open(\"match_list\", \"r\")]\n",
    "urls[-2:]"
   ]
  },
  {
   "cell_type": "code",
   "execution_count": 3,
   "metadata": {},
   "outputs": [
    {
     "name": "stdout",
     "output_type": "stream",
     "text": [
      "['https://www.cricbuzz.com/live-cricket-scorecard/91488/pbks-vs-gt-37th-match-indian-premier-league-2024']\n"
     ]
    },
    {
     "ename": "InvalidSchema",
     "evalue": "No connection adapters were found for \"['https://www.cricbuzz.com/live-cricket-scorecard/91488/pbks-vs-gt-37th-match-indian-premier-league-2024']\"",
     "output_type": "error",
     "traceback": [
      "\u001b[0;31m---------------------------------------------------------------------------\u001b[0m",
      "\u001b[0;31mInvalidSchema\u001b[0m                             Traceback (most recent call last)",
      "Cell \u001b[0;32mIn[3], line 3\u001b[0m\n\u001b[1;32m      1\u001b[0m toss_url \u001b[38;5;241m=\u001b[39m urls[\u001b[38;5;241m-\u001b[39m\u001b[38;5;241m1\u001b[39m:]\n\u001b[1;32m      2\u001b[0m \u001b[38;5;28mprint\u001b[39m(toss_url)\n\u001b[0;32m----> 3\u001b[0m toss_response \u001b[38;5;241m=\u001b[39m \u001b[43mrequests\u001b[49m\u001b[38;5;241;43m.\u001b[39;49m\u001b[43mget\u001b[49m\u001b[43m(\u001b[49m\u001b[43mtoss_url\u001b[49m\u001b[43m)\u001b[49m\n\u001b[1;32m      4\u001b[0m toss_html \u001b[38;5;241m=\u001b[39m BeautifulSoup(toss_response\u001b[38;5;241m.\u001b[39mcontent, features\u001b[38;5;241m=\u001b[39m\u001b[38;5;124m\"\u001b[39m\u001b[38;5;124mlxml\u001b[39m\u001b[38;5;124m\"\u001b[39m)\n\u001b[1;32m      5\u001b[0m \u001b[38;5;28mprint\u001b[39m(toss_html\u001b[38;5;241m.\u001b[39mfind_all(\u001b[38;5;124m'\u001b[39m\u001b[38;5;124mdiv\u001b[39m\u001b[38;5;124m'\u001b[39m, attrs\u001b[38;5;241m=\u001b[39m{\u001b[38;5;124m'\u001b[39m\u001b[38;5;124mclass\u001b[39m\u001b[38;5;124m'\u001b[39m:\u001b[38;5;124m'\u001b[39m\u001b[38;5;124mcb-col cb-col-73\u001b[39m\u001b[38;5;124m'\u001b[39m})[\u001b[38;5;241m0\u001b[39m])\n",
      "File \u001b[0;32m/usr/local/lib/python3.11/site-packages/requests/api.py:73\u001b[0m, in \u001b[0;36mget\u001b[0;34m(url, params, **kwargs)\u001b[0m\n\u001b[1;32m     62\u001b[0m \u001b[39mdef\u001b[39;00m \u001b[39mget\u001b[39m(url, params\u001b[39m=\u001b[39m\u001b[39mNone\u001b[39;00m, \u001b[39m*\u001b[39m\u001b[39m*\u001b[39mkwargs):\n\u001b[1;32m     63\u001b[0m \u001b[39m    \u001b[39m\u001b[39mr\u001b[39m\u001b[39m\"\"\"Sends a GET request.\u001b[39;00m\n\u001b[1;32m     64\u001b[0m \n\u001b[1;32m     65\u001b[0m \u001b[39m    :param url: URL for the new :class:`Request` object.\u001b[39;00m\n\u001b[0;32m   (...)\u001b[0m\n\u001b[1;32m     70\u001b[0m \u001b[39m    :rtype: requests.Response\u001b[39;00m\n\u001b[1;32m     71\u001b[0m \u001b[39m    \"\"\"\u001b[39;00m\n\u001b[0;32m---> 73\u001b[0m     \u001b[39mreturn\u001b[39;00m request(\u001b[39m\"\u001b[39;49m\u001b[39mget\u001b[39;49m\u001b[39m\"\u001b[39;49m, url, params\u001b[39m=\u001b[39;49mparams, \u001b[39m*\u001b[39;49m\u001b[39m*\u001b[39;49mkwargs)\n",
      "File \u001b[0;32m/usr/local/lib/python3.11/site-packages/requests/api.py:59\u001b[0m, in \u001b[0;36mrequest\u001b[0;34m(method, url, **kwargs)\u001b[0m\n\u001b[1;32m     55\u001b[0m \u001b[39m# By using the 'with' statement we are sure the session is closed, thus we\u001b[39;00m\n\u001b[1;32m     56\u001b[0m \u001b[39m# avoid leaving sockets open which can trigger a ResourceWarning in some\u001b[39;00m\n\u001b[1;32m     57\u001b[0m \u001b[39m# cases, and look like a memory leak in others.\u001b[39;00m\n\u001b[1;32m     58\u001b[0m \u001b[39mwith\u001b[39;00m sessions\u001b[39m.\u001b[39mSession() \u001b[39mas\u001b[39;00m session:\n\u001b[0;32m---> 59\u001b[0m     \u001b[39mreturn\u001b[39;00m session\u001b[39m.\u001b[39;49mrequest(method\u001b[39m=\u001b[39;49mmethod, url\u001b[39m=\u001b[39;49murl, \u001b[39m*\u001b[39;49m\u001b[39m*\u001b[39;49mkwargs)\n",
      "File \u001b[0;32m/usr/local/lib/python3.11/site-packages/requests/sessions.py:589\u001b[0m, in \u001b[0;36mSession.request\u001b[0;34m(self, method, url, params, data, headers, cookies, files, auth, timeout, allow_redirects, proxies, hooks, stream, verify, cert, json)\u001b[0m\n\u001b[1;32m    584\u001b[0m send_kwargs \u001b[39m=\u001b[39m {\n\u001b[1;32m    585\u001b[0m     \u001b[39m\"\u001b[39m\u001b[39mtimeout\u001b[39m\u001b[39m\"\u001b[39m: timeout,\n\u001b[1;32m    586\u001b[0m     \u001b[39m\"\u001b[39m\u001b[39mallow_redirects\u001b[39m\u001b[39m\"\u001b[39m: allow_redirects,\n\u001b[1;32m    587\u001b[0m }\n\u001b[1;32m    588\u001b[0m send_kwargs\u001b[39m.\u001b[39mupdate(settings)\n\u001b[0;32m--> 589\u001b[0m resp \u001b[39m=\u001b[39m \u001b[39mself\u001b[39;49m\u001b[39m.\u001b[39;49msend(prep, \u001b[39m*\u001b[39;49m\u001b[39m*\u001b[39;49msend_kwargs)\n\u001b[1;32m    591\u001b[0m \u001b[39mreturn\u001b[39;00m resp\n",
      "File \u001b[0;32m/usr/local/lib/python3.11/site-packages/requests/sessions.py:697\u001b[0m, in \u001b[0;36mSession.send\u001b[0;34m(self, request, **kwargs)\u001b[0m\n\u001b[1;32m    694\u001b[0m hooks \u001b[39m=\u001b[39m request\u001b[39m.\u001b[39mhooks\n\u001b[1;32m    696\u001b[0m \u001b[39m# Get the appropriate adapter to use\u001b[39;00m\n\u001b[0;32m--> 697\u001b[0m adapter \u001b[39m=\u001b[39m \u001b[39mself\u001b[39;49m\u001b[39m.\u001b[39;49mget_adapter(url\u001b[39m=\u001b[39;49mrequest\u001b[39m.\u001b[39;49murl)\n\u001b[1;32m    699\u001b[0m \u001b[39m# Start time (approximately) of the request\u001b[39;00m\n\u001b[1;32m    700\u001b[0m start \u001b[39m=\u001b[39m preferred_clock()\n",
      "File \u001b[0;32m/usr/local/lib/python3.11/site-packages/requests/sessions.py:794\u001b[0m, in \u001b[0;36mSession.get_adapter\u001b[0;34m(self, url)\u001b[0m\n\u001b[1;32m    791\u001b[0m         \u001b[39mreturn\u001b[39;00m adapter\n\u001b[1;32m    793\u001b[0m \u001b[39m# Nothing matches :-/\u001b[39;00m\n\u001b[0;32m--> 794\u001b[0m \u001b[39mraise\u001b[39;00m InvalidSchema(\u001b[39mf\u001b[39m\u001b[39m\"\u001b[39m\u001b[39mNo connection adapters were found for \u001b[39m\u001b[39m{\u001b[39;00murl\u001b[39m!r}\u001b[39;00m\u001b[39m\"\u001b[39m)\n",
      "\u001b[0;31mInvalidSchema\u001b[0m: No connection adapters were found for \"['https://www.cricbuzz.com/live-cricket-scorecard/91488/pbks-vs-gt-37th-match-indian-premier-league-2024']\""
     ]
    }
   ],
   "source": [
    "toss_url = urls[-1:]\n",
    "print(toss_url)\n",
    "toss_response = requests.get(toss_url)\n",
    "toss_html = BeautifulSoup(toss_response.content, features=\"lxml\")\n",
    "print(toss_html.find_all('div', attrs={'class':'cb-col cb-col-73'})[0])\n",
    "print(toss_html.find_all('div', attrs={'class':'cb-col cb-col-73'})[2])\n",
    "out = toss_html.find_all('div', attrs={'class':'cb-col cb-col-73'})[0].string\n",
    "print(type(out))\n",
    "print(out.string)\n",
    "pattern = r'<div class=\"cb-col cb-col-73\">(.*?)</div>'\n",
    "text = re.search(pattern, print(out)).group(1)\n",
    "print(text.strip())"
   ]
  },
  {
   "cell_type": "code",
   "execution_count": 4,
   "metadata": {},
   "outputs": [
    {
     "name": "stdout",
     "output_type": "stream",
     "text": [
      " KKR vs RCB, 36th Match, Indian Premier League 2024  \tRoyal Challengers Bengaluru won the toss and opt to bowl \n",
      " PBKS vs GT, 37th Match, Indian Premier League 2024  \tPunjab Kings won the toss and opt to bat \n"
     ]
    }
   ],
   "source": [
    "for item in urls[-2:]:\n",
    "    toss_response = requests.get(item)\n",
    "    toss_html = BeautifulSoup(toss_response.content, features=\"lxml\")\n",
    "    print(toss_html.find_all('div', attrs={'class':'cb-col cb-col-73'})[0].string, toss_html.find_all('div', attrs={'class':'cb-col cb-col-73'})[2].string)"
   ]
  },
  {
   "cell_type": "code",
   "execution_count": 5,
   "metadata": {},
   "outputs": [
    {
     "data": {
      "text/plain": [
       "['https://www.cricbuzz.com/live-cricket-scorecard/91479/kkr-vs-rcb-36th-match-indian-premier-league-2024',\n",
       " 'https://www.cricbuzz.com/live-cricket-scorecard/91488/pbks-vs-gt-37th-match-indian-premier-league-2024']"
      ]
     },
     "execution_count": 5,
     "metadata": {},
     "output_type": "execute_result"
    }
   ],
   "source": [
    "urls[-2:]"
   ]
  },
  {
   "cell_type": "code",
   "execution_count": 6,
   "metadata": {},
   "outputs": [
    {
     "name": "stdout",
     "output_type": "stream",
     "text": [
      "https://www.cricbuzz.com/live-cricket-scorecard/91479/kkr-vs-rcb-36th-match-indian-premier-league-2024\n",
      "R\n",
      "48\n",
      "10\n",
      "3\n",
      "16\n",
      "50\n",
      "24\n",
      "27\n",
      "24\n",
      "1\n",
      "2\n",
      "1\n",
      "0\n",
      "2\n",
      "R\n",
      "18\n",
      "7\n",
      "55\n",
      "52\n",
      "6\n",
      "24\n",
      "4\n",
      "25\n",
      "20\n",
      "0\n",
      "1\n",
      "2\n",
      "1\n",
      "1\n",
      "2\n",
      "0\n",
      "3\n",
      "https://www.cricbuzz.com/live-cricket-scorecard/91488/pbks-vs-gt-37th-match-indian-premier-league-2024\n",
      "R\n",
      "20\n",
      "35\n",
      "9\n",
      "13\n",
      "6\n",
      "8\n",
      "3\n",
      "14\n",
      "29\n",
      "0\n",
      "1\n",
      "0\n",
      "0\n",
      "2\n",
      "1\n",
      "2\n",
      "4\n",
      "0\n",
      "R\n",
      "13\n",
      "35\n",
      "31\n",
      "4\n",
      "13\n",
      "36\n",
      "8\n",
      "3\n",
      "0\n",
      "0\n",
      "1\n",
      "3\n",
      "1\n",
      "0\n",
      "2\n"
     ]
    }
   ],
   "source": [
    "for url in urls[-2:]:\n",
    "    print(url)\n",
    "    response = requests.get(url)\n",
    "    if response.status_code == 200:\n",
    "        parsed_html = BeautifulSoup(response.content, features=\"lxml\")\n",
    "        items = parsed_html.find_all('div', attrs={'class':'cb-col cb-col-8 text-right text-bold'})\n",
    "        for item in items:\n",
    "            print(item.string)"
   ]
  },
  {
   "cell_type": "code",
   "execution_count": 9,
   "metadata": {},
   "outputs": [
    {
     "name": "stdout",
     "output_type": "stream",
     "text": [
      "matchId\n",
      "commentary\n",
      "commentarySnippetList\n",
      "matchDetails\n"
     ]
    }
   ],
   "source": [
    "url = 'https://www.cricbuzz.com/api/cricket-match/91609/full-commentary/2'\n",
    "response = requests.get(url=url) \n",
    "API_Data = response.json() \n",
    "for key in API_Data: \n",
    "    print(key) \n",
    "\n"
   ]
  },
  {
   "cell_type": "code",
   "execution_count": 36,
   "metadata": {},
   "outputs": [
    {
     "name": "stdout",
     "output_type": "stream",
     "text": [
      "inningsId: 2\n",
      "19.6 7 odd\n",
      "18.6 11 odd\n",
      "17.6 9 odd\n",
      "16.6 7 odd\n",
      "15.6 14 Even\n",
      "14.6 11 odd\n",
      "13.6 1 odd\n",
      "12.6 2 Even\n",
      "11.6 2 Even\n",
      "10.6 3 odd\n",
      "9.6 4 Even\n",
      "8.6 6 Even\n",
      "7.6 6 Even\n",
      "6.6 9 odd\n",
      "5.6 16 Even\n",
      "4.6 15 odd\n",
      "3.6 5 odd\n",
      "2.6 2 Even\n",
      "1.6 7 odd\n",
      "0.6 2 Even\n"
     ]
    }
   ],
   "source": [
    "for item in API_Data[\"commentary\"]:\n",
    "    print(\"inningsId:\", item[\"inningsId\"])\n",
    "    for val in item[\"commentaryList\"]:\n",
    "        if \"overSeparator\" in val:\n",
    "            out = val[\"overSeparator\"][\"runs\"]\n",
    "            out_type =  \"Even\" if out % 2 == 0 else \"odd\"\n",
    "            print(val[\"overNumber\"], out, out_type )"
   ]
  },
  {
   "cell_type": "code",
   "execution_count": 38,
   "metadata": {},
   "outputs": [
    {
     "data": {
      "text/plain": [
       "['https://www.cricbuzz.com/api/cricket-match/89731/full-commentary/1',\n",
       " 'https://www.cricbuzz.com/api/cricket-match/89763/full-commentary/1',\n",
       " 'https://www.cricbuzz.com/api/cricket-match/91398/full-commentary/1',\n",
       " 'https://www.cricbuzz.com/api/cricket-match/91425/full-commentary/1',\n",
       " 'https://www.cricbuzz.com/api/cricket-match/91596/full-commentary/1',\n",
       " 'https://www.cricbuzz.com/api/cricket-match/89731/full-commentary/2',\n",
       " 'https://www.cricbuzz.com/api/cricket-match/89763/full-commentary/2',\n",
       " 'https://www.cricbuzz.com/api/cricket-match/91398/full-commentary/2',\n",
       " 'https://www.cricbuzz.com/api/cricket-match/91425/full-commentary/2',\n",
       " 'https://www.cricbuzz.com/api/cricket-match/91596/full-commentary/2']"
      ]
     },
     "execution_count": 38,
     "metadata": {},
     "output_type": "execute_result"
    }
   ],
   "source": [
    "comm_url = [line.strip() for line in open(\"commentry_urls\", \"r\")]\n",
    "comm_url"
   ]
  },
  {
   "cell_type": "code",
   "execution_count": 39,
   "metadata": {},
   "outputs": [
    {
     "name": "stdout",
     "output_type": "stream",
     "text": [
      "inningsId: 1\n",
      "19.6 10 Even\n",
      "18.6 1 odd\n",
      "17.6 2 Even\n",
      "16.6 1 odd\n",
      "15.6 9 odd\n",
      "14.6 5 odd\n",
      "13.6 2 Even\n",
      "12.6 6 Even\n",
      "11.6 6 Even\n",
      "10.6 6 Even\n",
      "9.6 2 Even\n",
      "8.6 10 Even\n",
      "7.6 6 Even\n",
      "6.6 13 odd\n",
      "5.6 16 Even\n",
      "4.6 10 Even\n",
      "3.6 4 Even\n",
      "2.6 3 odd\n",
      "1.6 12 Even\n",
      "0.6 1 odd\n",
      "inningsId: 1\n",
      "19.6 32 Even\n",
      "18.6 19 odd\n",
      "17.6 16 Even\n",
      "16.6 17 odd\n",
      "15.6 12 Even\n",
      "14.6 7 odd\n",
      "13.6 8 Even\n",
      "12.6 3 odd\n",
      "11.6 7 odd\n",
      "10.6 8 Even\n",
      "9.6 13 odd\n",
      "8.6 8 Even\n",
      "7.6 4 Even\n",
      "6.6 5 odd\n",
      "5.6 15 odd\n",
      "4.6 14 Even\n",
      "3.6 13 odd\n",
      "2.6 12 Even\n",
      "1.6 14 Even\n",
      "0.6 7 odd\n",
      "inningsId: 1\n",
      "19.6 19 odd\n",
      "18.6 9 odd\n",
      "17.6 14 Even\n",
      "16.6 5 odd\n",
      "15.6 19 odd\n",
      "14.6 9 odd\n",
      "13.6 10 Even\n",
      "12.6 4 Even\n",
      "11.6 14 Even\n",
      "10.6 4 Even\n",
      "9.6 13 odd\n",
      "8.6 9 odd\n",
      "7.6 13 odd\n",
      "6.6 10 Even\n",
      "5.6 9 odd\n",
      "4.6 7 odd\n",
      "3.6 10 Even\n",
      "2.6 4 Even\n",
      "1.6 7 odd\n",
      "0.6 7 odd\n",
      "inningsId: 1\n",
      "19.6 26 Even\n",
      "18.6 7 odd\n",
      "17.6 12 Even\n",
      "16.6 10 Even\n",
      "15.6 2 Even\n",
      "14.6 17 odd\n",
      "13.6 22 Even\n",
      "12.6 8 Even\n",
      "11.6 10 Even\n",
      "10.6 12 Even\n",
      "9.6 15 odd\n",
      "8.6 4 Even\n",
      "7.6 9 odd\n",
      "6.6 4 Even\n",
      "5.6 10 Even\n",
      "4.6 14 Even\n",
      "3.6 6 Even\n",
      "2.6 9 odd\n",
      "1.6 3 odd\n",
      "0.6 6 Even\n",
      "inningsId: 1\n",
      "18.6 12 Even\n",
      "17.6 2 Even\n",
      "16.6 20 Even\n",
      "15.6 5 odd\n",
      "14.6 7 odd\n",
      "13.6 12 Even\n",
      "12.6 3 odd\n",
      "11.6 15 odd\n",
      "10.6 8 Even\n",
      "9.6 11 odd\n",
      "8.6 4 Even\n",
      "7.6 8 Even\n",
      "6.6 3 odd\n",
      "5.6 6 Even\n",
      "4.6 14 Even\n",
      "3.6 9 odd\n",
      "2.6 12 Even\n",
      "1.6 2 Even\n",
      "0.6 14 Even\n",
      "inningsId: 2\n",
      "14.6 10 Even\n",
      "13.6 7 odd\n",
      "12.6 7 odd\n",
      "11.6 3 odd\n",
      "10.6 11 odd\n",
      "9.6 5 odd\n",
      "8.6 8 Even\n",
      "7.6 10 Even\n",
      "6.6 4 Even\n",
      "5.6 2 Even\n",
      "4.6 3 odd\n",
      "3.6 11 odd\n",
      "2.6 13 odd\n",
      "1.6 7 odd\n",
      "0.6 10 Even\n",
      "inningsId: 2\n",
      "19.6 4 Even\n",
      "18.6 21 odd\n",
      "17.6 8 Even\n",
      "16.6 19 odd\n",
      "15.6 9 odd\n",
      "14.6 6 Even\n",
      "13.6 11 odd\n",
      "12.6 16 Even\n",
      "11.6 4 Even\n",
      "10.6 13 odd\n",
      "9.6 10 Even\n",
      "8.6 15 odd\n",
      "7.6 16 Even\n",
      "6.6 7 odd\n",
      "5.6 13 odd\n",
      "4.6 9 odd\n",
      "3.6 9 odd\n",
      "2.6 4 Even\n",
      "1.6 4 Even\n",
      "0.6 7 odd\n",
      "inningsId: 2\n",
      "14.6 7 odd\n",
      "13.6 12 Even\n",
      "12.6 18 Even\n",
      "11.6 16 Even\n",
      "10.6 24 Even\n",
      "9.6 8 Even\n",
      "8.6 11 odd\n",
      "7.6 8 Even\n",
      "6.6 12 Even\n",
      "5.6 17 odd\n",
      "4.6 23 odd\n",
      "3.6 9 odd\n",
      "2.6 14 Even\n",
      "1.6 7 odd\n",
      "0.6 2 Even\n",
      "inningsId: 2\n",
      "19.6 13 odd\n",
      "18.6 13 odd\n",
      "17.6 6 Even\n",
      "16.6 19 odd\n",
      "15.6 3 odd\n",
      "14.6 2 Even\n",
      "13.6 6 Even\n",
      "12.6 6 Even\n",
      "11.6 10 Even\n",
      "10.6 18 Even\n",
      "9.6 9 odd\n",
      "8.6 6 Even\n",
      "7.6 5 odd\n",
      "6.6 7 odd\n",
      "5.6 10 Even\n",
      "4.6 15 odd\n",
      "3.6 13 odd\n",
      "2.6 12 Even\n",
      "1.6 8 Even\n",
      "0.6 5 odd\n",
      "inningsId: 2\n",
      "17.6 11 odd\n",
      "16.6 3 odd\n",
      "15.6 5 odd\n",
      "14.6 9 odd\n",
      "13.6 20 Even\n",
      "12.6 8 Even\n",
      "11.6 11 odd\n",
      "10.6 4 Even\n",
      "9.6 6 Even\n",
      "8.6 7 odd\n",
      "7.6 5 odd\n",
      "6.6 3 odd\n",
      "5.6 5 odd\n",
      "4.6 3 odd\n",
      "3.6 13 odd\n",
      "2.6 9 odd\n",
      "1.6 10 Even\n",
      "0.6 6 Even\n"
     ]
    }
   ],
   "source": [
    "for url in comm_url:\n",
    "    response = requests.get(url=url)\n",
    "    API_Data = response.json()\n",
    "    for item in API_Data[\"commentary\"]:\n",
    "        print(\"inningsId:\", item[\"inningsId\"])\n",
    "        for val in item[\"commentaryList\"]:\n",
    "            if \"overSeparator\" in val:\n",
    "                out = val[\"overSeparator\"][\"runs\"]\n",
    "                out_type =  \"Even\" if out % 2 == 0 else \"odd\"\n",
    "                print(val[\"overNumber\"], out, out_type )"
   ]
  }
 ],
 "metadata": {
  "kernelspec": {
   "display_name": "Python 3.11.3 64-bit",
   "language": "python",
   "name": "python3"
  },
  "language_info": {
   "codemirror_mode": {
    "name": "ipython",
    "version": 3
   },
   "file_extension": ".py",
   "mimetype": "text/x-python",
   "name": "python",
   "nbconvert_exporter": "python",
   "pygments_lexer": "ipython3",
   "version": "3.11.3"
  },
  "orig_nbformat": 4,
  "vscode": {
   "interpreter": {
    "hash": "aee8b7b246df8f9039afb4144a1f6fd8d2ca17a180786b69acc140d282b71a49"
   }
  }
 },
 "nbformat": 4,
 "nbformat_minor": 2
}
